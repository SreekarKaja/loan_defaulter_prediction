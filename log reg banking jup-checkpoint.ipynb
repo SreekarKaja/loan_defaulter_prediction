{
 "cells": [
  {
   "cell_type": "code",
   "execution_count": 266,
   "metadata": {},
   "outputs": [],
   "source": [
    "import matplotlib.pyplot as plt\n",
    "import numpy as np\n",
    "import pandas as pd\n",
    "from sklearn import datasets, linear_model\n",
    "from mpl_toolkits.mplot3d import axes3d\n",
    "import seaborn as sns\n",
    "import plotly.plotly as py\n",
    "from sklearn.preprocessing import scale\n",
    "import sklearn.linear_model as skl_lm\n",
    "from sklearn.metrics import mean_squared_error, r2_score\n",
    "#For LR\n",
    "import statsmodels.api as sm\n",
    "\n"
   ]
  },
  {
   "cell_type": "code",
   "execution_count": 267,
   "metadata": {},
   "outputs": [
    {
     "data": {
      "text/html": [
       "<div>\n",
       "<style scoped>\n",
       "    .dataframe tbody tr th:only-of-type {\n",
       "        vertical-align: middle;\n",
       "    }\n",
       "\n",
       "    .dataframe tbody tr th {\n",
       "        vertical-align: top;\n",
       "    }\n",
       "\n",
       "    .dataframe thead th {\n",
       "        text-align: right;\n",
       "    }\n",
       "</style>\n",
       "<table border=\"1\" class=\"dataframe\">\n",
       "  <thead>\n",
       "    <tr style=\"text-align: right;\">\n",
       "      <th></th>\n",
       "      <th>Customer_ID</th>\n",
       "      <th>Credit_Amount</th>\n",
       "      <th>Purpose_Credit_Taken</th>\n",
       "      <th>Duration_in_Months</th>\n",
       "      <th>Status_Checking_Accnt</th>\n",
       "      <th>Credit_History</th>\n",
       "      <th>Job_Status</th>\n",
       "      <th>Years_At_Present_Employment</th>\n",
       "      <th>Marital_Status_Gender</th>\n",
       "      <th>Other_Debtors_Guarantors</th>\n",
       "      <th>Current_Address_Yrs</th>\n",
       "      <th>Age</th>\n",
       "      <th>Housing</th>\n",
       "      <th>Num_Credits</th>\n",
       "      <th>Num_Dependents</th>\n",
       "      <th>Foreign_Worker</th>\n",
       "      <th>Default_On_Payment</th>\n",
       "    </tr>\n",
       "  </thead>\n",
       "  <tbody>\n",
       "    <tr>\n",
       "      <th>0</th>\n",
       "      <td>C15001</td>\n",
       "      <td>3939</td>\n",
       "      <td>P40</td>\n",
       "      <td>11</td>\n",
       "      <td>S11</td>\n",
       "      <td>A34</td>\n",
       "      <td>A172</td>\n",
       "      <td>E73</td>\n",
       "      <td>A93</td>\n",
       "      <td>A101</td>\n",
       "      <td>2</td>\n",
       "      <td>40</td>\n",
       "      <td>A152</td>\n",
       "      <td>2</td>\n",
       "      <td>2</td>\n",
       "      <td>A201</td>\n",
       "      <td>0</td>\n",
       "    </tr>\n",
       "    <tr>\n",
       "      <th>1</th>\n",
       "      <td>C15002</td>\n",
       "      <td>1795</td>\n",
       "      <td>P43</td>\n",
       "      <td>18</td>\n",
       "      <td>S12</td>\n",
       "      <td>A34</td>\n",
       "      <td>A172</td>\n",
       "      <td>E75</td>\n",
       "      <td>A92</td>\n",
       "      <td>A103</td>\n",
       "      <td>4</td>\n",
       "      <td>48</td>\n",
       "      <td>A151</td>\n",
       "      <td>2</td>\n",
       "      <td>1</td>\n",
       "      <td>A201</td>\n",
       "      <td>0</td>\n",
       "    </tr>\n",
       "    <tr>\n",
       "      <th>2</th>\n",
       "      <td>C15003</td>\n",
       "      <td>6143</td>\n",
       "      <td>P41</td>\n",
       "      <td>48</td>\n",
       "      <td>S11</td>\n",
       "      <td>A34</td>\n",
       "      <td>A172</td>\n",
       "      <td>E75</td>\n",
       "      <td>A92</td>\n",
       "      <td>A101</td>\n",
       "      <td>4</td>\n",
       "      <td>58</td>\n",
       "      <td>A153</td>\n",
       "      <td>2</td>\n",
       "      <td>1</td>\n",
       "      <td>A201</td>\n",
       "      <td>1</td>\n",
       "    </tr>\n",
       "    <tr>\n",
       "      <th>3</th>\n",
       "      <td>C15004</td>\n",
       "      <td>2675</td>\n",
       "      <td>P43</td>\n",
       "      <td>22</td>\n",
       "      <td>S14</td>\n",
       "      <td>A32</td>\n",
       "      <td>A173</td>\n",
       "      <td>E75</td>\n",
       "      <td>A93</td>\n",
       "      <td>A101</td>\n",
       "      <td>4</td>\n",
       "      <td>40</td>\n",
       "      <td>A152</td>\n",
       "      <td>1</td>\n",
       "      <td>1</td>\n",
       "      <td>A201</td>\n",
       "      <td>0</td>\n",
       "    </tr>\n",
       "    <tr>\n",
       "      <th>4</th>\n",
       "      <td>C15005</td>\n",
       "      <td>12389</td>\n",
       "      <td>P40</td>\n",
       "      <td>36</td>\n",
       "      <td>S12</td>\n",
       "      <td>A32</td>\n",
       "      <td>NaN</td>\n",
       "      <td>E73</td>\n",
       "      <td>A93</td>\n",
       "      <td>A101</td>\n",
       "      <td>4</td>\n",
       "      <td>37</td>\n",
       "      <td>A153</td>\n",
       "      <td>1</td>\n",
       "      <td>1</td>\n",
       "      <td>A201</td>\n",
       "      <td>1</td>\n",
       "    </tr>\n",
       "  </tbody>\n",
       "</table>\n",
       "</div>"
      ],
      "text/plain": [
       "  Customer_ID  Credit_Amount Purpose_Credit_Taken  Duration_in_Months  \\\n",
       "0      C15001           3939                  P40                  11   \n",
       "1      C15002           1795                  P43                  18   \n",
       "2      C15003           6143                  P41                  48   \n",
       "3      C15004           2675                  P43                  22   \n",
       "4      C15005          12389                  P40                  36   \n",
       "\n",
       "  Status_Checking_Accnt Credit_History Job_Status Years_At_Present_Employment  \\\n",
       "0                   S11            A34       A172                         E73   \n",
       "1                   S12            A34       A172                         E75   \n",
       "2                   S11            A34       A172                         E75   \n",
       "3                   S14            A32       A173                         E75   \n",
       "4                   S12            A32        NaN                         E73   \n",
       "\n",
       "  Marital_Status_Gender Other_Debtors_Guarantors  Current_Address_Yrs  Age  \\\n",
       "0                   A93                     A101                    2   40   \n",
       "1                   A92                     A103                    4   48   \n",
       "2                   A92                     A101                    4   58   \n",
       "3                   A93                     A101                    4   40   \n",
       "4                   A93                     A101                    4   37   \n",
       "\n",
       "  Housing  Num_Credits  Num_Dependents Foreign_Worker  Default_On_Payment  \n",
       "0    A152            2               2           A201                   0  \n",
       "1    A151            2               1           A201                   0  \n",
       "2    A153            2               1           A201                   1  \n",
       "3    A152            1               1           A201                   0  \n",
       "4    A153            1               1           A201                   1  "
      ]
     },
     "execution_count": 267,
     "metadata": {},
     "output_type": "execute_result"
    }
   ],
   "source": [
    "df_base=pd.read_csv('C:\\\\Users\\\\SAI SREEKAR KAJA\\\\Desktop\\\\python\\\\01_DataScience\\\\Datasets\\\\Log-Reg-Case-Study.csv')\n",
    "df_base.head()\n"
   ]
  },
  {
   "cell_type": "code",
   "execution_count": 268,
   "metadata": {},
   "outputs": [],
   "source": [
    "from sklearn.linear_model import LogisticRegression\n",
    "import numpy as np\n"
   ]
  },
  {
   "cell_type": "code",
   "execution_count": 269,
   "metadata": {},
   "outputs": [],
   "source": [
    "data = df_base\n",
    "\n",
    "arr = df_base.values\n"
   ]
  },
  {
   "cell_type": "code",
   "execution_count": 270,
   "metadata": {},
   "outputs": [
    {
     "name": "stderr",
     "output_type": "stream",
     "text": [
      "C:\\Users\\SAI SREEKAR KAJA\\Anaconda3\\lib\\site-packages\\ipykernel_launcher.py:1: DeprecationWarning:\n",
      "\n",
      "\n",
      ".ix is deprecated. Please use\n",
      ".loc for label based indexing or\n",
      ".iloc for positional indexing\n",
      "\n",
      "See the documentation here:\n",
      "http://pandas.pydata.org/pandas-docs/stable/indexing.html#ix-indexer-is-deprecated\n",
      "\n"
     ]
    },
    {
     "data": {
      "text/html": [
       "<div>\n",
       "<style scoped>\n",
       "    .dataframe tbody tr th:only-of-type {\n",
       "        vertical-align: middle;\n",
       "    }\n",
       "\n",
       "    .dataframe tbody tr th {\n",
       "        vertical-align: top;\n",
       "    }\n",
       "\n",
       "    .dataframe thead th {\n",
       "        text-align: right;\n",
       "    }\n",
       "</style>\n",
       "<table border=\"1\" class=\"dataframe\">\n",
       "  <thead>\n",
       "    <tr style=\"text-align: right;\">\n",
       "      <th></th>\n",
       "      <th>Credit_Amount</th>\n",
       "      <th>Current_Address_Yrs</th>\n",
       "      <th>Age</th>\n",
       "      <th>Num_Credits</th>\n",
       "    </tr>\n",
       "  </thead>\n",
       "  <tbody>\n",
       "    <tr>\n",
       "      <th>0</th>\n",
       "      <td>3939</td>\n",
       "      <td>2</td>\n",
       "      <td>40</td>\n",
       "      <td>2</td>\n",
       "    </tr>\n",
       "    <tr>\n",
       "      <th>1</th>\n",
       "      <td>1795</td>\n",
       "      <td>4</td>\n",
       "      <td>48</td>\n",
       "      <td>2</td>\n",
       "    </tr>\n",
       "    <tr>\n",
       "      <th>2</th>\n",
       "      <td>6143</td>\n",
       "      <td>4</td>\n",
       "      <td>58</td>\n",
       "      <td>2</td>\n",
       "    </tr>\n",
       "    <tr>\n",
       "      <th>3</th>\n",
       "      <td>2675</td>\n",
       "      <td>4</td>\n",
       "      <td>40</td>\n",
       "      <td>1</td>\n",
       "    </tr>\n",
       "    <tr>\n",
       "      <th>4</th>\n",
       "      <td>12389</td>\n",
       "      <td>4</td>\n",
       "      <td>37</td>\n",
       "      <td>1</td>\n",
       "    </tr>\n",
       "    <tr>\n",
       "      <th>5</th>\n",
       "      <td>2662</td>\n",
       "      <td>3</td>\n",
       "      <td>32</td>\n",
       "      <td>1</td>\n",
       "    </tr>\n",
       "    <tr>\n",
       "      <th>6</th>\n",
       "      <td>3527</td>\n",
       "      <td>3</td>\n",
       "      <td>45</td>\n",
       "      <td>1</td>\n",
       "    </tr>\n",
       "    <tr>\n",
       "      <th>7</th>\n",
       "      <td>2142</td>\n",
       "      <td>2</td>\n",
       "      <td>28</td>\n",
       "      <td>1</td>\n",
       "    </tr>\n",
       "    <tr>\n",
       "      <th>8</th>\n",
       "      <td>2251</td>\n",
       "      <td>2</td>\n",
       "      <td>46</td>\n",
       "      <td>1</td>\n",
       "    </tr>\n",
       "    <tr>\n",
       "      <th>9</th>\n",
       "      <td>1131</td>\n",
       "      <td>2</td>\n",
       "      <td>33</td>\n",
       "      <td>1</td>\n",
       "    </tr>\n",
       "    <tr>\n",
       "      <th>10</th>\n",
       "      <td>1262</td>\n",
       "      <td>2</td>\n",
       "      <td>25</td>\n",
       "      <td>1</td>\n",
       "    </tr>\n",
       "    <tr>\n",
       "      <th>11</th>\n",
       "      <td>3077</td>\n",
       "      <td>2</td>\n",
       "      <td>40</td>\n",
       "      <td>2</td>\n",
       "    </tr>\n",
       "    <tr>\n",
       "      <th>12</th>\n",
       "      <td>1935</td>\n",
       "      <td>4</td>\n",
       "      <td>31</td>\n",
       "      <td>2</td>\n",
       "    </tr>\n",
       "    <tr>\n",
       "      <th>13</th>\n",
       "      <td>5045</td>\n",
       "      <td>4</td>\n",
       "      <td>59</td>\n",
       "      <td>1</td>\n",
       "    </tr>\n",
       "    <tr>\n",
       "      <th>14</th>\n",
       "      <td>886</td>\n",
       "      <td>2</td>\n",
       "      <td>21</td>\n",
       "      <td>1</td>\n",
       "    </tr>\n",
       "    <tr>\n",
       "      <th>15</th>\n",
       "      <td>2528</td>\n",
       "      <td>1</td>\n",
       "      <td>32</td>\n",
       "      <td>1</td>\n",
       "    </tr>\n",
       "    <tr>\n",
       "      <th>16</th>\n",
       "      <td>884</td>\n",
       "      <td>4</td>\n",
       "      <td>36</td>\n",
       "      <td>1</td>\n",
       "    </tr>\n",
       "    <tr>\n",
       "      <th>17</th>\n",
       "      <td>14896</td>\n",
       "      <td>4</td>\n",
       "      <td>68</td>\n",
       "      <td>1</td>\n",
       "    </tr>\n",
       "    <tr>\n",
       "      <th>18</th>\n",
       "      <td>4843</td>\n",
       "      <td>4</td>\n",
       "      <td>43</td>\n",
       "      <td>2</td>\n",
       "    </tr>\n",
       "    <tr>\n",
       "      <th>19</th>\n",
       "      <td>2684</td>\n",
       "      <td>2</td>\n",
       "      <td>35</td>\n",
       "      <td>2</td>\n",
       "    </tr>\n",
       "    <tr>\n",
       "      <th>20</th>\n",
       "      <td>3973</td>\n",
       "      <td>4</td>\n",
       "      <td>22</td>\n",
       "      <td>1</td>\n",
       "    </tr>\n",
       "    <tr>\n",
       "      <th>21</th>\n",
       "      <td>4591</td>\n",
       "      <td>3</td>\n",
       "      <td>54</td>\n",
       "      <td>3</td>\n",
       "    </tr>\n",
       "    <tr>\n",
       "      <th>22</th>\n",
       "      <td>1995</td>\n",
       "      <td>1</td>\n",
       "      <td>27</td>\n",
       "      <td>1</td>\n",
       "    </tr>\n",
       "    <tr>\n",
       "      <th>23</th>\n",
       "      <td>1338</td>\n",
       "      <td>4</td>\n",
       "      <td>62</td>\n",
       "      <td>1</td>\n",
       "    </tr>\n",
       "    <tr>\n",
       "      <th>24</th>\n",
       "      <td>5951</td>\n",
       "      <td>2</td>\n",
       "      <td>22</td>\n",
       "      <td>1</td>\n",
       "    </tr>\n",
       "    <tr>\n",
       "      <th>25</th>\n",
       "      <td>1238</td>\n",
       "      <td>4</td>\n",
       "      <td>36</td>\n",
       "      <td>1</td>\n",
       "    </tr>\n",
       "    <tr>\n",
       "      <th>26</th>\n",
       "      <td>6110</td>\n",
       "      <td>3</td>\n",
       "      <td>31</td>\n",
       "      <td>1</td>\n",
       "    </tr>\n",
       "    <tr>\n",
       "      <th>27</th>\n",
       "      <td>1823</td>\n",
       "      <td>2</td>\n",
       "      <td>30</td>\n",
       "      <td>1</td>\n",
       "    </tr>\n",
       "    <tr>\n",
       "      <th>28</th>\n",
       "      <td>11560</td>\n",
       "      <td>4</td>\n",
       "      <td>23</td>\n",
       "      <td>2</td>\n",
       "    </tr>\n",
       "    <tr>\n",
       "      <th>29</th>\n",
       "      <td>6527</td>\n",
       "      <td>4</td>\n",
       "      <td>34</td>\n",
       "      <td>1</td>\n",
       "    </tr>\n",
       "    <tr>\n",
       "      <th>...</th>\n",
       "      <td>...</td>\n",
       "      <td>...</td>\n",
       "      <td>...</td>\n",
       "      <td>...</td>\n",
       "    </tr>\n",
       "    <tr>\n",
       "      <th>4970</th>\n",
       "      <td>1544</td>\n",
       "      <td>1</td>\n",
       "      <td>42</td>\n",
       "      <td>3</td>\n",
       "    </tr>\n",
       "    <tr>\n",
       "      <th>4971</th>\n",
       "      <td>3384</td>\n",
       "      <td>4</td>\n",
       "      <td>44</td>\n",
       "      <td>1</td>\n",
       "    </tr>\n",
       "    <tr>\n",
       "      <th>4972</th>\n",
       "      <td>2247</td>\n",
       "      <td>2</td>\n",
       "      <td>36</td>\n",
       "      <td>2</td>\n",
       "    </tr>\n",
       "    <tr>\n",
       "      <th>4973</th>\n",
       "      <td>804</td>\n",
       "      <td>4</td>\n",
       "      <td>38</td>\n",
       "      <td>1</td>\n",
       "    </tr>\n",
       "    <tr>\n",
       "      <th>4974</th>\n",
       "      <td>1898</td>\n",
       "      <td>2</td>\n",
       "      <td>34</td>\n",
       "      <td>2</td>\n",
       "    </tr>\n",
       "    <tr>\n",
       "      <th>4975</th>\n",
       "      <td>682</td>\n",
       "      <td>3</td>\n",
       "      <td>51</td>\n",
       "      <td>2</td>\n",
       "    </tr>\n",
       "    <tr>\n",
       "      <th>4976</th>\n",
       "      <td>1647</td>\n",
       "      <td>2</td>\n",
       "      <td>40</td>\n",
       "      <td>2</td>\n",
       "    </tr>\n",
       "    <tr>\n",
       "      <th>4977</th>\n",
       "      <td>8947</td>\n",
       "      <td>2</td>\n",
       "      <td>31</td>\n",
       "      <td>1</td>\n",
       "    </tr>\n",
       "    <tr>\n",
       "      <th>4978</th>\n",
       "      <td>1995</td>\n",
       "      <td>1</td>\n",
       "      <td>27</td>\n",
       "      <td>1</td>\n",
       "    </tr>\n",
       "    <tr>\n",
       "      <th>4979</th>\n",
       "      <td>1108</td>\n",
       "      <td>3</td>\n",
       "      <td>28</td>\n",
       "      <td>2</td>\n",
       "    </tr>\n",
       "    <tr>\n",
       "      <th>4980</th>\n",
       "      <td>1880</td>\n",
       "      <td>1</td>\n",
       "      <td>32</td>\n",
       "      <td>2</td>\n",
       "    </tr>\n",
       "    <tr>\n",
       "      <th>4981</th>\n",
       "      <td>1309</td>\n",
       "      <td>4</td>\n",
       "      <td>27</td>\n",
       "      <td>1</td>\n",
       "    </tr>\n",
       "    <tr>\n",
       "      <th>4982</th>\n",
       "      <td>1455</td>\n",
       "      <td>1</td>\n",
       "      <td>42</td>\n",
       "      <td>3</td>\n",
       "    </tr>\n",
       "    <tr>\n",
       "      <th>4983</th>\n",
       "      <td>2225</td>\n",
       "      <td>4</td>\n",
       "      <td>57</td>\n",
       "      <td>2</td>\n",
       "    </tr>\n",
       "    <tr>\n",
       "      <th>4984</th>\n",
       "      <td>11998</td>\n",
       "      <td>1</td>\n",
       "      <td>34</td>\n",
       "      <td>1</td>\n",
       "    </tr>\n",
       "    <tr>\n",
       "      <th>4985</th>\n",
       "      <td>2384</td>\n",
       "      <td>4</td>\n",
       "      <td>64</td>\n",
       "      <td>1</td>\n",
       "    </tr>\n",
       "    <tr>\n",
       "      <th>4986</th>\n",
       "      <td>1530</td>\n",
       "      <td>2</td>\n",
       "      <td>32</td>\n",
       "      <td>2</td>\n",
       "    </tr>\n",
       "    <tr>\n",
       "      <th>4987</th>\n",
       "      <td>3905</td>\n",
       "      <td>2</td>\n",
       "      <td>36</td>\n",
       "      <td>2</td>\n",
       "    </tr>\n",
       "    <tr>\n",
       "      <th>4988</th>\n",
       "      <td>4657</td>\n",
       "      <td>2</td>\n",
       "      <td>30</td>\n",
       "      <td>1</td>\n",
       "    </tr>\n",
       "    <tr>\n",
       "      <th>4989</th>\n",
       "      <td>1884</td>\n",
       "      <td>4</td>\n",
       "      <td>39</td>\n",
       "      <td>1</td>\n",
       "    </tr>\n",
       "    <tr>\n",
       "      <th>4990</th>\n",
       "      <td>1374</td>\n",
       "      <td>2</td>\n",
       "      <td>36</td>\n",
       "      <td>1</td>\n",
       "    </tr>\n",
       "    <tr>\n",
       "      <th>4991</th>\n",
       "      <td>1501</td>\n",
       "      <td>3</td>\n",
       "      <td>34</td>\n",
       "      <td>2</td>\n",
       "    </tr>\n",
       "    <tr>\n",
       "      <th>4992</th>\n",
       "      <td>426</td>\n",
       "      <td>4</td>\n",
       "      <td>39</td>\n",
       "      <td>1</td>\n",
       "    </tr>\n",
       "    <tr>\n",
       "      <th>4993</th>\n",
       "      <td>3758</td>\n",
       "      <td>4</td>\n",
       "      <td>23</td>\n",
       "      <td>1</td>\n",
       "    </tr>\n",
       "    <tr>\n",
       "      <th>4994</th>\n",
       "      <td>6681</td>\n",
       "      <td>4</td>\n",
       "      <td>38</td>\n",
       "      <td>1</td>\n",
       "    </tr>\n",
       "    <tr>\n",
       "      <th>4995</th>\n",
       "      <td>5800</td>\n",
       "      <td>4</td>\n",
       "      <td>34</td>\n",
       "      <td>2</td>\n",
       "    </tr>\n",
       "    <tr>\n",
       "      <th>4996</th>\n",
       "      <td>7228</td>\n",
       "      <td>4</td>\n",
       "      <td>39</td>\n",
       "      <td>2</td>\n",
       "    </tr>\n",
       "    <tr>\n",
       "      <th>4997</th>\n",
       "      <td>3595</td>\n",
       "      <td>2</td>\n",
       "      <td>28</td>\n",
       "      <td>1</td>\n",
       "    </tr>\n",
       "    <tr>\n",
       "      <th>4998</th>\n",
       "      <td>2622</td>\n",
       "      <td>4</td>\n",
       "      <td>34</td>\n",
       "      <td>1</td>\n",
       "    </tr>\n",
       "    <tr>\n",
       "      <th>4999</th>\n",
       "      <td>2142</td>\n",
       "      <td>2</td>\n",
       "      <td>28</td>\n",
       "      <td>1</td>\n",
       "    </tr>\n",
       "  </tbody>\n",
       "</table>\n",
       "<p>5000 rows × 4 columns</p>\n",
       "</div>"
      ],
      "text/plain": [
       "      Credit_Amount  Current_Address_Yrs  Age  Num_Credits\n",
       "0              3939                    2   40            2\n",
       "1              1795                    4   48            2\n",
       "2              6143                    4   58            2\n",
       "3              2675                    4   40            1\n",
       "4             12389                    4   37            1\n",
       "5              2662                    3   32            1\n",
       "6              3527                    3   45            1\n",
       "7              2142                    2   28            1\n",
       "8              2251                    2   46            1\n",
       "9              1131                    2   33            1\n",
       "10             1262                    2   25            1\n",
       "11             3077                    2   40            2\n",
       "12             1935                    4   31            2\n",
       "13             5045                    4   59            1\n",
       "14              886                    2   21            1\n",
       "15             2528                    1   32            1\n",
       "16              884                    4   36            1\n",
       "17            14896                    4   68            1\n",
       "18             4843                    4   43            2\n",
       "19             2684                    2   35            2\n",
       "20             3973                    4   22            1\n",
       "21             4591                    3   54            3\n",
       "22             1995                    1   27            1\n",
       "23             1338                    4   62            1\n",
       "24             5951                    2   22            1\n",
       "25             1238                    4   36            1\n",
       "26             6110                    3   31            1\n",
       "27             1823                    2   30            1\n",
       "28            11560                    4   23            2\n",
       "29             6527                    4   34            1\n",
       "...             ...                  ...  ...          ...\n",
       "4970           1544                    1   42            3\n",
       "4971           3384                    4   44            1\n",
       "4972           2247                    2   36            2\n",
       "4973            804                    4   38            1\n",
       "4974           1898                    2   34            2\n",
       "4975            682                    3   51            2\n",
       "4976           1647                    2   40            2\n",
       "4977           8947                    2   31            1\n",
       "4978           1995                    1   27            1\n",
       "4979           1108                    3   28            2\n",
       "4980           1880                    1   32            2\n",
       "4981           1309                    4   27            1\n",
       "4982           1455                    1   42            3\n",
       "4983           2225                    4   57            2\n",
       "4984          11998                    1   34            1\n",
       "4985           2384                    4   64            1\n",
       "4986           1530                    2   32            2\n",
       "4987           3905                    2   36            2\n",
       "4988           4657                    2   30            1\n",
       "4989           1884                    4   39            1\n",
       "4990           1374                    2   36            1\n",
       "4991           1501                    3   34            2\n",
       "4992            426                    4   39            1\n",
       "4993           3758                    4   23            1\n",
       "4994           6681                    4   38            1\n",
       "4995           5800                    4   34            2\n",
       "4996           7228                    4   39            2\n",
       "4997           3595                    2   28            1\n",
       "4998           2622                    4   34            1\n",
       "4999           2142                    2   28            1\n",
       "\n",
       "[5000 rows x 4 columns]"
      ]
     },
     "execution_count": 270,
     "metadata": {},
     "output_type": "execute_result"
    }
   ],
   "source": [
    "X = data.ix[:,(1,10,11,13)] # ivs for train\n",
    "X\n"
   ]
  },
  {
   "cell_type": "code",
   "execution_count": 271,
   "metadata": {},
   "outputs": [
    {
     "name": "stderr",
     "output_type": "stream",
     "text": [
      "C:\\Users\\SAI SREEKAR KAJA\\Anaconda3\\lib\\site-packages\\ipykernel_launcher.py:1: DeprecationWarning:\n",
      "\n",
      "\n",
      ".ix is deprecated. Please use\n",
      ".loc for label based indexing or\n",
      ".iloc for positional indexing\n",
      "\n",
      "See the documentation here:\n",
      "http://pandas.pydata.org/pandas-docs/stable/indexing.html#ix-indexer-is-deprecated\n",
      "\n",
      "C:\\Users\\SAI SREEKAR KAJA\\Anaconda3\\lib\\site-packages\\sklearn\\linear_model\\logistic.py:432: FutureWarning:\n",
      "\n",
      "Default solver will be changed to 'lbfgs' in 0.22. Specify a solver to silence this warning.\n",
      "\n"
     ]
    },
    {
     "data": {
      "text/plain": [
       "array([0, 0, 0, ..., 0, 0, 0], dtype=int64)"
      ]
     },
     "execution_count": 271,
     "metadata": {},
     "output_type": "execute_result"
    }
   ],
   "source": [
    "y = data.ix[:,16]\n",
    "y\n",
    "\n",
    "regr = LogisticRegression()\n",
    "\n",
    "regr.fit(X, y)\n",
    "\n",
    "pred = regr.predict(X)\n",
    "pred\n",
    "\n"
   ]
  },
  {
   "cell_type": "code",
   "execution_count": 272,
   "metadata": {},
   "outputs": [
    {
     "name": "stdout",
     "output_type": "stream",
     "text": [
      "     Customer_ID  Credit_Amount Purpose_Credit_Taken  Duration_in_Months  \\\n",
      "1677      C16678            902                  P48                  12   \n",
      "3273      C18274           1924                  P42                  18   \n",
      "3467      C18468          12976                  P41                  18   \n",
      "3249      C18250            590                  P43                   6   \n",
      "1957      C16958           2576                  P43                   7   \n",
      "\n",
      "     Status_Checking_Accnt Credit_History Job_Status  \\\n",
      "1677                   S11            A32       A173   \n",
      "3273                   S12            A32       A173   \n",
      "3467                   S12            A32       A174   \n",
      "3249                   S12            A32       A172   \n",
      "1957                   S12            A32       A173   \n",
      "\n",
      "     Years_At_Present_Employment Marital_Status_Gender  \\\n",
      "1677                         E74                   A94   \n",
      "3273                         E72                   A92   \n",
      "3467                         E71                   A92   \n",
      "3249                         E72                   A94   \n",
      "1957                         E73                   A93   \n",
      "\n",
      "     Other_Debtors_Guarantors  Current_Address_Yrs  Age Housing  Num_Credits  \\\n",
      "1677                     A101                    4   21    A151            1   \n",
      "3273                     A101                    3   27    A151            1   \n",
      "3467                     A101                    4   38    A153            1   \n",
      "3249                     A101                    3   26    A152            1   \n",
      "1957                     A103                    2   35    A152            1   \n",
      "\n",
      "      Num_Dependents Foreign_Worker  Default_On_Payment  \n",
      "1677               1           A201                   1  \n",
      "3273               1           A201                   1  \n",
      "3467               1           A201                   1  \n",
      "3249               1           A202                   0  \n",
      "1957               1           A201                   0  \n",
      "     Customer_ID  Credit_Amount Purpose_Credit_Taken  Duration_in_Months  \\\n",
      "2706      C17707            338                  P43                   6   \n",
      "2436      C17437           2625                  P40                  16   \n",
      "1201      C16202           6304                  P49                  36   \n",
      "1486      C16487           2957                  P41                  24   \n",
      "4286      C19287            590                  P43                   6   \n",
      "\n",
      "     Status_Checking_Accnt Credit_History Job_Status  \\\n",
      "2706                   S11            A34       A173   \n",
      "2436                   S11            A34       A173   \n",
      "1201                   S14            A34       A173   \n",
      "1486                   S11            A34       A173   \n",
      "4286                   S12            A32       A172   \n",
      "\n",
      "     Years_At_Present_Employment Marital_Status_Gender  \\\n",
      "2706                         E75                   A93   \n",
      "2436                         E75                   A93   \n",
      "1201                         E75                   A93   \n",
      "1486                         E75                   A93   \n",
      "4286                         E72                   A94   \n",
      "\n",
      "     Other_Debtors_Guarantors  Current_Address_Yrs  Age Housing  Num_Credits  \\\n",
      "2706                     A101                    4   52    A152            2   \n",
      "2436                     A103                    4   43    A151            1   \n",
      "1201                     A101                    4   36    A152            2   \n",
      "1486                     A101                    4   63    A152            2   \n",
      "4286                     A101                    3   26    A152            1   \n",
      "\n",
      "      Num_Dependents Foreign_Worker  Default_On_Payment  \n",
      "2706               1           A201                   0  \n",
      "2436               1           A201                   1  \n",
      "1201               1           A201                   0  \n",
      "1486               1           A201                   0  \n",
      "4286               1           A202                   0  \n"
     ]
    },
    {
     "data": {
      "text/plain": [
       "(5000, 17)"
      ]
     },
     "execution_count": 272,
     "metadata": {},
     "output_type": "execute_result"
    }
   ],
   "source": [
    "model_data = df_base.sample(frac=0.7)\n",
    "print(model_data.head())\n",
    "\n",
    "model_data = df_base.sample(frac=0.7,random_state=1234)\n",
    "print(model_data.head())\n",
    "\n",
    "df_base.shape\n",
    "# when we give random same value we produce \n",
    "#same set of partitions esch time if not whaenever\n",
    "#we run it shows diffrent sets\n",
    "\n"
   ]
  },
  {
   "cell_type": "code",
   "execution_count": 273,
   "metadata": {},
   "outputs": [],
   "source": [
    "df = model_data\n"
   ]
  },
  {
   "cell_type": "code",
   "execution_count": 274,
   "metadata": {},
   "outputs": [
    {
     "name": "stdout",
     "output_type": "stream",
     "text": [
      "(3500, 17)\n",
      "(1500, 17)\n"
     ]
    }
   ],
   "source": [
    "model_data = df_base.sample(frac=0.7,random_state=1234)\n",
    "print(model_data.shape)\n",
    "\n",
    "test_data = df_base.loc[~df_base.index.isin(model_data.index), :]\n",
    "print(test_data.shape)\n"
   ]
  },
  {
   "cell_type": "code",
   "execution_count": 275,
   "metadata": {},
   "outputs": [
    {
     "name": "stdout",
     "output_type": "stream",
     "text": [
      "count    3500.000000\n",
      "mean       35.509143\n",
      "std        11.321975\n",
      "min        19.000000\n",
      "25%        27.000000\n",
      "50%        33.000000\n",
      "75%        42.000000\n",
      "max        85.000000\n",
      "Name: Age, dtype: float64\n"
     ]
    }
   ],
   "source": [
    "print(df.Age.describe())\n"
   ]
  },
  {
   "cell_type": "code",
   "execution_count": 276,
   "metadata": {},
   "outputs": [
    {
     "name": "stdout",
     "output_type": "stream",
     "text": [
      "74.0\n"
     ]
    }
   ],
   "source": [
    "print(df.Age.quantile(q=0.995))#99.7 of customers age<=74\n"
   ]
  },
  {
   "cell_type": "code",
   "execution_count": 277,
   "metadata": {},
   "outputs": [
    {
     "name": "stdout",
     "output_type": "stream",
     "text": [
      "74.0\n",
      "75.0\n"
     ]
    }
   ],
   "source": [
    "print(df.Age.quantile(q=0.997))\n",
    "\n",
    "print(df.Age.quantile(q=0.999))\n",
    "#identifying outliers"
   ]
  },
  {
   "cell_type": "code",
   "execution_count": 278,
   "metadata": {},
   "outputs": [
    {
     "name": "stdout",
     "output_type": "stream",
     "text": [
      "19\n",
      "85\n"
     ]
    }
   ],
   "source": [
    "data = df\n",
    "\n",
    "print(min(df.Age))\n",
    "print(max(df.Age))\n"
   ]
  },
  {
   "cell_type": "code",
   "execution_count": 279,
   "metadata": {},
   "outputs": [
    {
     "name": "stdout",
     "output_type": "stream",
     "text": [
      "19\n",
      "75\n"
     ]
    }
   ],
   "source": [
    "df.loc[df['Age']>75,'Age'] = 75\n",
    "\n",
    "print(min(df.Age))\n",
    "print(max(df.Age))\n",
    "# capping outliers"
   ]
  },
  {
   "cell_type": "code",
   "execution_count": 280,
   "metadata": {},
   "outputs": [
    {
     "data": {
      "text/plain": [
       "True"
      ]
     },
     "execution_count": 280,
     "metadata": {},
     "output_type": "execute_result"
    }
   ],
   "source": [
    "# *** Missing Vals\n",
    "\n",
    "df.isnull().values.any()\n",
    "\n",
    "# checking if there are any outliers"
   ]
  },
  {
   "cell_type": "code",
   "execution_count": 281,
   "metadata": {},
   "outputs": [
    {
     "data": {
      "text/plain": [
       "Customer_ID                    0\n",
       "Credit_Amount                  0\n",
       "Purpose_Credit_Taken           0\n",
       "Duration_in_Months             0\n",
       "Status_Checking_Accnt          0\n",
       "Credit_History                 0\n",
       "Job_Status                     9\n",
       "Years_At_Present_Employment    0\n",
       "Marital_Status_Gender          0\n",
       "Other_Debtors_Guarantors       0\n",
       "Current_Address_Yrs            0\n",
       "Age                            0\n",
       "Housing                        4\n",
       "Num_Credits                    0\n",
       "Num_Dependents                 0\n",
       "Foreign_Worker                 0\n",
       "Default_On_Payment             0\n",
       "dtype: int64"
      ]
     },
     "execution_count": 281,
     "metadata": {},
     "output_type": "execute_result"
    }
   ],
   "source": [
    "df.isnull().sum()\n",
    "# sum of nulls in each of columns \n"
   ]
  },
  {
   "cell_type": "code",
   "execution_count": 282,
   "metadata": {},
   "outputs": [
    {
     "data": {
      "text/plain": [
       "13"
      ]
     },
     "execution_count": 282,
     "metadata": {},
     "output_type": "execute_result"
    }
   ],
   "source": [
    "df.isnull().sum().sum()\n",
    "# sum of all nulls in all columns"
   ]
  },
  {
   "cell_type": "code",
   "execution_count": 283,
   "metadata": {},
   "outputs": [
    {
     "data": {
      "text/html": [
       "<div>\n",
       "<style scoped>\n",
       "    .dataframe tbody tr th:only-of-type {\n",
       "        vertical-align: middle;\n",
       "    }\n",
       "\n",
       "    .dataframe tbody tr th {\n",
       "        vertical-align: top;\n",
       "    }\n",
       "\n",
       "    .dataframe thead th {\n",
       "        text-align: right;\n",
       "    }\n",
       "</style>\n",
       "<table border=\"1\" class=\"dataframe\">\n",
       "  <thead>\n",
       "    <tr style=\"text-align: right;\">\n",
       "      <th>Default_On_Payment</th>\n",
       "      <th>0</th>\n",
       "      <th>1</th>\n",
       "    </tr>\n",
       "    <tr>\n",
       "      <th>Housing</th>\n",
       "      <th></th>\n",
       "      <th></th>\n",
       "    </tr>\n",
       "  </thead>\n",
       "  <tbody>\n",
       "    <tr>\n",
       "      <th>A151</th>\n",
       "      <td>369</td>\n",
       "      <td>238</td>\n",
       "    </tr>\n",
       "    <tr>\n",
       "      <th>A152</th>\n",
       "      <td>1868</td>\n",
       "      <td>659</td>\n",
       "    </tr>\n",
       "    <tr>\n",
       "      <th>A153</th>\n",
       "      <td>222</td>\n",
       "      <td>140</td>\n",
       "    </tr>\n",
       "  </tbody>\n",
       "</table>\n",
       "</div>"
      ],
      "text/plain": [
       "Default_On_Payment     0    1\n",
       "Housing                      \n",
       "A151                 369  238\n",
       "A152                1868  659\n",
       "A153                 222  140"
      ]
     },
     "execution_count": 283,
     "metadata": {},
     "output_type": "execute_result"
    }
   ],
   "source": [
    "# Housing\n",
    "\n",
    "pd.crosstab(data.Housing,data.Default_On_Payment)\n",
    "# crosstab creates or maps two columns\n"
   ]
  },
  {
   "cell_type": "code",
   "execution_count": 284,
   "metadata": {},
   "outputs": [
    {
     "name": "stdout",
     "output_type": "stream",
     "text": [
      "count     3496\n",
      "unique       3\n",
      "top       A152\n",
      "freq      2527\n",
      "Name: Housing, dtype: object\n"
     ]
    }
   ],
   "source": [
    "print(df.Housing.describe())\n"
   ]
  },
  {
   "cell_type": "code",
   "execution_count": 285,
   "metadata": {},
   "outputs": [
    {
     "name": "stdout",
     "output_type": "stream",
     "text": [
      "['A152' 'A151' 'A153' nan]\n"
     ]
    }
   ],
   "source": [
    "print(df.Housing.unique())\n"
   ]
  },
  {
   "cell_type": "code",
   "execution_count": 286,
   "metadata": {
    "scrolled": true
   },
   "outputs": [
    {
     "name": "stdout",
     "output_type": "stream",
     "text": [
      "A152    2527\n",
      "A151     607\n",
      "A153     362\n",
      "Name: Housing, dtype: int64\n"
     ]
    }
   ],
   "source": [
    "print(df.Housing.value_counts())\n"
   ]
  },
  {
   "cell_type": "code",
   "execution_count": 287,
   "metadata": {},
   "outputs": [
    {
     "data": {
      "image/png": "[encoded data removed]",
      "text/plain": [
       "<Figure size 432x288 with 1 Axes>"
      ]
     },
     "metadata": {
      "needs_background": "light"
     },
     "output_type": "display_data"
    },
    {
     "data": {
      "text/plain": [
       "<Figure size 432x288 with 0 Axes>"
      ]
     },
     "metadata": {},
     "output_type": "display_data"
    }
   ],
   "source": [
    "sns.countplot(x='Housing',data=df, palette='hls')\n",
    "plt.show()\n",
    "plt.savefig('count_plot')\n"
   ]
  },
  {
   "cell_type": "code",
   "execution_count": 288,
   "metadata": {},
   "outputs": [
    {
     "name": "stdout",
     "output_type": "stream",
     "text": [
      "4\n"
     ]
    },
    {
     "data": {
      "text/html": [
       "<div>\n",
       "<style scoped>\n",
       "    .dataframe tbody tr th:only-of-type {\n",
       "        vertical-align: middle;\n",
       "    }\n",
       "\n",
       "    .dataframe tbody tr th {\n",
       "        vertical-align: top;\n",
       "    }\n",
       "\n",
       "    .dataframe thead th {\n",
       "        text-align: right;\n",
       "    }\n",
       "</style>\n",
       "<table border=\"1\" class=\"dataframe\">\n",
       "  <thead>\n",
       "    <tr style=\"text-align: right;\">\n",
       "      <th>Default_On_Payment</th>\n",
       "      <th>0</th>\n",
       "      <th>1</th>\n",
       "    </tr>\n",
       "    <tr>\n",
       "      <th>Housing</th>\n",
       "      <th></th>\n",
       "      <th></th>\n",
       "    </tr>\n",
       "  </thead>\n",
       "  <tbody>\n",
       "    <tr>\n",
       "      <th>False</th>\n",
       "      <td>2459</td>\n",
       "      <td>1037</td>\n",
       "    </tr>\n",
       "    <tr>\n",
       "      <th>True</th>\n",
       "      <td>3</td>\n",
       "      <td>1</td>\n",
       "    </tr>\n",
       "  </tbody>\n",
       "</table>\n",
       "</div>"
      ],
      "text/plain": [
       "Default_On_Payment     0     1\n",
       "Housing                       \n",
       "False               2459  1037\n",
       "True                   3     1"
      ]
     },
     "execution_count": 288,
     "metadata": {},
     "output_type": "execute_result"
    }
   ],
   "source": [
    "print(df.Housing.isnull().sum())\n",
    "\n",
    "pd.crosstab(data.Housing.isnull(),data.Default_On_Payment)\n"
   ]
  },
  {
   "cell_type": "code",
   "execution_count": 289,
   "metadata": {},
   "outputs": [
    {
     "data": {
      "image/png": "[encoded data removed]",
      "text/plain": [
       "<Figure size 432x288 with 1 Axes>"
      ]
     },
     "metadata": {
      "needs_background": "light"
     },
     "output_type": "display_data"
    }
   ],
   "source": [
    "pd.crosstab(data.Housing,data.Default_On_Payment).plot(kind='bar')\n",
    "plt.title(' Frequency of Defaulters')\n",
    "plt.xlabel('Housing')\n",
    "plt.ylabel('Frequency of Defaults')\n",
    "plt.savefig('dflt_fre_job')\n",
    "plt.show()\n"
   ]
  },
  {
   "cell_type": "code",
   "execution_count": 290,
   "metadata": {},
   "outputs": [
    {
     "data": {
      "text/plain": [
       "4"
      ]
     },
     "execution_count": 290,
     "metadata": {},
     "output_type": "execute_result"
    }
   ],
   "source": [
    "df.Housing.isnull().sum()\n"
   ]
  },
  {
   "cell_type": "code",
   "execution_count": 291,
   "metadata": {},
   "outputs": [
    {
     "data": {
      "text/plain": [
       "0    A152\n",
       "dtype: object"
      ]
     },
     "execution_count": 291,
     "metadata": {},
     "output_type": "execute_result"
    }
   ],
   "source": [
    "df['Housing'].mode()\n"
   ]
  },
  {
   "cell_type": "code",
   "execution_count": 292,
   "metadata": {},
   "outputs": [
    {
     "data": {
      "text/plain": [
       "'A152'"
      ]
     },
     "execution_count": 292,
     "metadata": {},
     "output_type": "execute_result"
    }
   ],
   "source": [
    "df['Housing'].mode()[0]\n"
   ]
  },
  {
   "cell_type": "code",
   "execution_count": 293,
   "metadata": {},
   "outputs": [
    {
     "data": {
      "text/plain": [
       "2527"
      ]
     },
     "execution_count": 293,
     "metadata": {},
     "output_type": "execute_result"
    }
   ],
   "source": [
    "df.Housing[df.Housing=='A152'].count()\n"
   ]
  },
  {
   "cell_type": "code",
   "execution_count": 294,
   "metadata": {},
   "outputs": [],
   "source": [
    "df['Housing'].fillna(df['Housing'].mode()[0],inplace = True)\n"
   ]
  },
  {
   "cell_type": "code",
   "execution_count": 295,
   "metadata": {},
   "outputs": [
    {
     "data": {
      "text/plain": [
       "2531"
      ]
     },
     "execution_count": 295,
     "metadata": {},
     "output_type": "execute_result"
    }
   ],
   "source": [
    "df.Housing[df.Housing=='A152'].count()\n"
   ]
  },
  {
   "cell_type": "code",
   "execution_count": 296,
   "metadata": {},
   "outputs": [
    {
     "data": {
      "text/plain": [
       "0"
      ]
     },
     "execution_count": 296,
     "metadata": {},
     "output_type": "execute_result"
    }
   ],
   "source": [
    "df.Housing.isnull().sum()\n"
   ]
  },
  {
   "cell_type": "code",
   "execution_count": 297,
   "metadata": {},
   "outputs": [
    {
     "name": "stdout",
     "output_type": "stream",
     "text": [
      "1    2973\n",
      "2     527\n",
      "Name: Num_Dependents, dtype: int64\n"
     ]
    }
   ],
   "source": [
    "#*** Num of Dependents\n",
    "\n",
    "print(df.Num_Dependents.value_counts())\n"
   ]
  },
  {
   "cell_type": "code",
   "execution_count": 298,
   "metadata": {
    "scrolled": true
   },
   "outputs": [
    {
     "data": {
      "image/png": "[encoded data removed]",
      "text/plain": [
       "<Figure size 432x288 with 1 Axes>"
      ]
     },
     "metadata": {
      "needs_background": "light"
     },
     "output_type": "display_data"
    }
   ],
   "source": [
    "sns.countplot(x='Num_Dependents',data=df, palette='hls')\n",
    "plt.show()\n"
   ]
  },
  {
   "cell_type": "code",
   "execution_count": 299,
   "metadata": {},
   "outputs": [
    {
     "data": {
      "text/plain": [
       "<Figure size 432x288 with 0 Axes>"
      ]
     },
     "metadata": {},
     "output_type": "display_data"
    }
   ],
   "source": [
    "plt.savefig('count_plot')\n"
   ]
  },
  {
   "cell_type": "code",
   "execution_count": 300,
   "metadata": {},
   "outputs": [
    {
     "data": {
      "image/png": "[encoded data removed]",
      "text/plain": [
       "<Figure size 432x288 with 1 Axes>"
      ]
     },
     "metadata": {
      "needs_background": "light"
     },
     "output_type": "display_data"
    }
   ],
   "source": [
    "pd.crosstab(data.Num_Dependents,data.Default_On_Payment).plot(kind='bar')\n",
    "plt.title(' Frequency of Defaulters')\n",
    "\n",
    "plt.xlabel('Num_Dependents')\n",
    "plt.ylabel('Frequency of Defaults')\n",
    "plt.savefig('dflt_fre_job')\n",
    "plt.show()\n"
   ]
  },
  {
   "cell_type": "code",
   "execution_count": 301,
   "metadata": {},
   "outputs": [],
   "source": [
    "def get_Percent(col,df):\n",
    "    grps=df.groupby([col,'Default_On_Payment'])\n",
    "    df2=pd.DataFrame()\n",
    "    for name,group in grps:\n",
    "        df2.loc[name[0],name[1]] = len(group)\n",
    "    df2['Percentage 0'] = df2[0]*100 / (df2[0] + df2[1])\n",
    "    df2['Percentage 1'] = df2[1]*100 / (df2[0] + df2[1])\n",
    "    print(df2.sort_values(by='Percentage 1'))\n"
   ]
  },
  {
   "cell_type": "code",
   "execution_count": 302,
   "metadata": {},
   "outputs": [
    {
     "name": "stdout",
     "output_type": "stream",
     "text": [
      "        0       1  Percentage 0  Percentage 1\n",
      "2   545.0   230.0     70.322581     29.677419\n",
      "1  2960.0  1265.0     70.059172     29.940828\n",
      "['Num_Dependents']\n"
     ]
    }
   ],
   "source": [
    "cols = ['Num_Dependents']\n",
    "for col in cols:\n",
    "    get_Percent(col,df_base)\n",
    "print(cols)\n"
   ]
  },
  {
   "cell_type": "code",
   "execution_count": 303,
   "metadata": {},
   "outputs": [
    {
     "data": {
      "text/plain": [
       "array(['A173', 'A172', 'A174', 'A171', nan], dtype=object)"
      ]
     },
     "execution_count": 303,
     "metadata": {},
     "output_type": "execute_result"
    }
   ],
   "source": [
    "df['Job_Status'].unique()\n"
   ]
  },
  {
   "cell_type": "code",
   "execution_count": 304,
   "metadata": {},
   "outputs": [
    {
     "data": {
      "text/plain": [
       "count     3491\n",
       "unique       4\n",
       "top       A173\n",
       "freq      2174\n",
       "Name: Job_Status, dtype: object"
      ]
     },
     "execution_count": 304,
     "metadata": {},
     "output_type": "execute_result"
    }
   ],
   "source": [
    "df['Job_Status'].describe()\n"
   ]
  },
  {
   "cell_type": "code",
   "execution_count": 305,
   "metadata": {},
   "outputs": [
    {
     "data": {
      "text/plain": [
       "9"
      ]
     },
     "execution_count": 305,
     "metadata": {},
     "output_type": "execute_result"
    }
   ],
   "source": [
    "df['Job_Status'].isnull().sum()\n"
   ]
  },
  {
   "cell_type": "code",
   "execution_count": 306,
   "metadata": {},
   "outputs": [
    {
     "name": "stdout",
     "output_type": "stream",
     "text": [
      "A173    2174\n",
      "A172     699\n",
      "A174     544\n",
      "A171      74\n",
      "Name: Job_Status, dtype: int64\n"
     ]
    }
   ],
   "source": [
    "print(df.Job_Status.value_counts())"
   ]
  },
  {
   "cell_type": "code",
   "execution_count": 307,
   "metadata": {},
   "outputs": [
    {
     "data": {
      "image/png": "[encoded data removed]",
      "text/plain": [
       "<Figure size 432x288 with 1 Axes>"
      ]
     },
     "metadata": {
      "needs_background": "light"
     },
     "output_type": "display_data"
    },
    {
     "data": {
      "text/plain": [
       "<Figure size 432x288 with 0 Axes>"
      ]
     },
     "metadata": {},
     "output_type": "display_data"
    }
   ],
   "source": [
    "sns.countplot(x='Job_Status',data=df, palette='hls')\n",
    "plt.show()\n",
    "plt.savefig('count_plot')\n"
   ]
  },
  {
   "cell_type": "code",
   "execution_count": null,
   "metadata": {},
   "outputs": [],
   "source": []
  },
  {
   "cell_type": "code",
   "execution_count": 308,
   "metadata": {},
   "outputs": [
    {
     "data": {
      "text/html": [
       "<div>\n",
       "<style scoped>\n",
       "    .dataframe tbody tr th:only-of-type {\n",
       "        vertical-align: middle;\n",
       "    }\n",
       "\n",
       "    .dataframe tbody tr th {\n",
       "        vertical-align: top;\n",
       "    }\n",
       "\n",
       "    .dataframe thead th {\n",
       "        text-align: right;\n",
       "    }\n",
       "</style>\n",
       "<table border=\"1\" class=\"dataframe\">\n",
       "  <thead>\n",
       "    <tr style=\"text-align: right;\">\n",
       "      <th>Default_On_Payment</th>\n",
       "      <th>0</th>\n",
       "      <th>1</th>\n",
       "    </tr>\n",
       "    <tr>\n",
       "      <th>Job_Status</th>\n",
       "      <th></th>\n",
       "      <th></th>\n",
       "    </tr>\n",
       "  </thead>\n",
       "  <tbody>\n",
       "    <tr>\n",
       "      <th>A171</th>\n",
       "      <td>50</td>\n",
       "      <td>24</td>\n",
       "    </tr>\n",
       "    <tr>\n",
       "      <th>A172</th>\n",
       "      <td>501</td>\n",
       "      <td>198</td>\n",
       "    </tr>\n",
       "    <tr>\n",
       "      <th>A173</th>\n",
       "      <td>1543</td>\n",
       "      <td>631</td>\n",
       "    </tr>\n",
       "    <tr>\n",
       "      <th>A174</th>\n",
       "      <td>363</td>\n",
       "      <td>181</td>\n",
       "    </tr>\n",
       "  </tbody>\n",
       "</table>\n",
       "</div>"
      ],
      "text/plain": [
       "Default_On_Payment     0    1\n",
       "Job_Status                   \n",
       "A171                  50   24\n",
       "A172                 501  198\n",
       "A173                1543  631\n",
       "A174                 363  181"
      ]
     },
     "execution_count": 308,
     "metadata": {},
     "output_type": "execute_result"
    }
   ],
   "source": [
    "pd.crosstab(data.Job_Status,data.Default_On_Payment)\n"
   ]
  },
  {
   "cell_type": "code",
   "execution_count": 309,
   "metadata": {},
   "outputs": [
    {
     "data": {
      "image/png": "[encoded data removed]",
      "text/plain": [
       "<Figure size 432x288 with 1 Axes>"
      ]
     },
     "metadata": {
      "needs_background": "light"
     },
     "output_type": "display_data"
    }
   ],
   "source": [
    "pd.crosstab(data.Job_Status,data.Default_On_Payment).plot(kind='bar')\n",
    "plt.title(' Frequency of Defaulters')\n",
    "plt.xlabel('Job_Status')\n",
    "plt.ylabel('Frequency of Defaults')\n",
    "plt.savefig('dflt_fre_job')\n",
    "plt.show()\n"
   ]
  },
  {
   "cell_type": "code",
   "execution_count": 310,
   "metadata": {},
   "outputs": [
    {
     "name": "stdout",
     "output_type": "stream",
     "text": [
      "           0      1  Percentage 0  Percentage 1\n",
      "A172   719.0  278.0     72.116349     27.883651\n",
      "A173  2220.0  924.0     70.610687     29.389313\n",
      "A171    74.0   35.0     67.889908     32.110092\n",
      "A174   484.0  254.0     65.582656     34.417344\n"
     ]
    }
   ],
   "source": [
    "cols = ['Job_Status']\n",
    "for col in cols:\n",
    "    get_Percent(col,df_base)\n"
   ]
  },
  {
   "cell_type": "code",
   "execution_count": 311,
   "metadata": {},
   "outputs": [
    {
     "data": {
      "text/plain": [
       "544"
      ]
     },
     "execution_count": 311,
     "metadata": {},
     "output_type": "execute_result"
    }
   ],
   "source": [
    "df.Job_Status[df.Job_Status=='A174'].count()\n"
   ]
  },
  {
   "cell_type": "code",
   "execution_count": 312,
   "metadata": {},
   "outputs": [
    {
     "data": {
      "text/plain": [
       "9"
      ]
     },
     "execution_count": 312,
     "metadata": {},
     "output_type": "execute_result"
    }
   ],
   "source": [
    "df.Job_Status.isnull().sum()\n"
   ]
  },
  {
   "cell_type": "code",
   "execution_count": 313,
   "metadata": {},
   "outputs": [
    {
     "data": {
      "text/html": [
       "<div>\n",
       "<style scoped>\n",
       "    .dataframe tbody tr th:only-of-type {\n",
       "        vertical-align: middle;\n",
       "    }\n",
       "\n",
       "    .dataframe tbody tr th {\n",
       "        vertical-align: top;\n",
       "    }\n",
       "\n",
       "    .dataframe thead th {\n",
       "        text-align: right;\n",
       "    }\n",
       "</style>\n",
       "<table border=\"1\" class=\"dataframe\">\n",
       "  <thead>\n",
       "    <tr style=\"text-align: right;\">\n",
       "      <th></th>\n",
       "      <th>Customer_ID</th>\n",
       "      <th>Credit_Amount</th>\n",
       "      <th>Purpose_Credit_Taken</th>\n",
       "      <th>Duration_in_Months</th>\n",
       "      <th>Status_Checking_Accnt</th>\n",
       "      <th>Credit_History</th>\n",
       "      <th>Job_Status</th>\n",
       "      <th>Years_At_Present_Employment</th>\n",
       "      <th>Marital_Status_Gender</th>\n",
       "      <th>Other_Debtors_Guarantors</th>\n",
       "      <th>Current_Address_Yrs</th>\n",
       "      <th>Age</th>\n",
       "      <th>Housing</th>\n",
       "      <th>Num_Credits</th>\n",
       "      <th>Num_Dependents</th>\n",
       "      <th>Foreign_Worker</th>\n",
       "      <th>Default_On_Payment</th>\n",
       "    </tr>\n",
       "  </thead>\n",
       "  <tbody>\n",
       "    <tr>\n",
       "      <th>2706</th>\n",
       "      <td>C17707</td>\n",
       "      <td>338</td>\n",
       "      <td>P43</td>\n",
       "      <td>6</td>\n",
       "      <td>S11</td>\n",
       "      <td>A34</td>\n",
       "      <td>A173</td>\n",
       "      <td>E75</td>\n",
       "      <td>A93</td>\n",
       "      <td>A101</td>\n",
       "      <td>4</td>\n",
       "      <td>52</td>\n",
       "      <td>A152</td>\n",
       "      <td>2</td>\n",
       "      <td>1</td>\n",
       "      <td>A201</td>\n",
       "      <td>0</td>\n",
       "    </tr>\n",
       "    <tr>\n",
       "      <th>2436</th>\n",
       "      <td>C17437</td>\n",
       "      <td>2625</td>\n",
       "      <td>P40</td>\n",
       "      <td>16</td>\n",
       "      <td>S11</td>\n",
       "      <td>A34</td>\n",
       "      <td>A173</td>\n",
       "      <td>E75</td>\n",
       "      <td>A93</td>\n",
       "      <td>A103</td>\n",
       "      <td>4</td>\n",
       "      <td>43</td>\n",
       "      <td>A151</td>\n",
       "      <td>1</td>\n",
       "      <td>1</td>\n",
       "      <td>A201</td>\n",
       "      <td>1</td>\n",
       "    </tr>\n",
       "    <tr>\n",
       "      <th>1201</th>\n",
       "      <td>C16202</td>\n",
       "      <td>6304</td>\n",
       "      <td>P49</td>\n",
       "      <td>36</td>\n",
       "      <td>S14</td>\n",
       "      <td>A34</td>\n",
       "      <td>A173</td>\n",
       "      <td>E75</td>\n",
       "      <td>A93</td>\n",
       "      <td>A101</td>\n",
       "      <td>4</td>\n",
       "      <td>36</td>\n",
       "      <td>A152</td>\n",
       "      <td>2</td>\n",
       "      <td>1</td>\n",
       "      <td>A201</td>\n",
       "      <td>0</td>\n",
       "    </tr>\n",
       "    <tr>\n",
       "      <th>1486</th>\n",
       "      <td>C16487</td>\n",
       "      <td>2957</td>\n",
       "      <td>P41</td>\n",
       "      <td>24</td>\n",
       "      <td>S11</td>\n",
       "      <td>A34</td>\n",
       "      <td>A173</td>\n",
       "      <td>E75</td>\n",
       "      <td>A93</td>\n",
       "      <td>A101</td>\n",
       "      <td>4</td>\n",
       "      <td>63</td>\n",
       "      <td>A152</td>\n",
       "      <td>2</td>\n",
       "      <td>1</td>\n",
       "      <td>A201</td>\n",
       "      <td>0</td>\n",
       "    </tr>\n",
       "    <tr>\n",
       "      <th>4286</th>\n",
       "      <td>C19287</td>\n",
       "      <td>590</td>\n",
       "      <td>P43</td>\n",
       "      <td>6</td>\n",
       "      <td>S12</td>\n",
       "      <td>A32</td>\n",
       "      <td>A172</td>\n",
       "      <td>E72</td>\n",
       "      <td>A94</td>\n",
       "      <td>A101</td>\n",
       "      <td>3</td>\n",
       "      <td>26</td>\n",
       "      <td>A152</td>\n",
       "      <td>1</td>\n",
       "      <td>1</td>\n",
       "      <td>A202</td>\n",
       "      <td>0</td>\n",
       "    </tr>\n",
       "  </tbody>\n",
       "</table>\n",
       "</div>"
      ],
      "text/plain": [
       "     Customer_ID  Credit_Amount Purpose_Credit_Taken  Duration_in_Months  \\\n",
       "2706      C17707            338                  P43                   6   \n",
       "2436      C17437           2625                  P40                  16   \n",
       "1201      C16202           6304                  P49                  36   \n",
       "1486      C16487           2957                  P41                  24   \n",
       "4286      C19287            590                  P43                   6   \n",
       "\n",
       "     Status_Checking_Accnt Credit_History Job_Status  \\\n",
       "2706                   S11            A34       A173   \n",
       "2436                   S11            A34       A173   \n",
       "1201                   S14            A34       A173   \n",
       "1486                   S11            A34       A173   \n",
       "4286                   S12            A32       A172   \n",
       "\n",
       "     Years_At_Present_Employment Marital_Status_Gender  \\\n",
       "2706                         E75                   A93   \n",
       "2436                         E75                   A93   \n",
       "1201                         E75                   A93   \n",
       "1486                         E75                   A93   \n",
       "4286                         E72                   A94   \n",
       "\n",
       "     Other_Debtors_Guarantors  Current_Address_Yrs  Age Housing  Num_Credits  \\\n",
       "2706                     A101                    4   52    A152            2   \n",
       "2436                     A103                    4   43    A151            1   \n",
       "1201                     A101                    4   36    A152            2   \n",
       "1486                     A101                    4   63    A152            2   \n",
       "4286                     A101                    3   26    A152            1   \n",
       "\n",
       "      Num_Dependents Foreign_Worker  Default_On_Payment  \n",
       "2706               1           A201                   0  \n",
       "2436               1           A201                   1  \n",
       "1201               1           A201                   0  \n",
       "1486               1           A201                   0  \n",
       "4286               1           A202                   0  "
      ]
     },
     "execution_count": 313,
     "metadata": {},
     "output_type": "execute_result"
    }
   ],
   "source": [
    "df['Job_Status'].fillna('A174',inplace = True)\n",
    "\n",
    "df.Job_Status.isnull().sum()\n",
    "\n",
    "df.Job_Status[df.Job_Status=='A174'].count()\n",
    "\n",
    "df.head()\n"
   ]
  },
  {
   "cell_type": "code",
   "execution_count": 314,
   "metadata": {},
   "outputs": [
    {
     "name": "stdout",
     "output_type": "stream",
     "text": [
      "(3500, 17)\n"
     ]
    }
   ],
   "source": [
    "df.Job_Status.unique()\n",
    "      # Dummy Vars for Job_Status\n",
    "print(model_data.shape)\n",
    "\n",
    "#print(model_data.head())\n",
    "f1 = model_data['Job_Status']=='A171'\n",
    "f2 = model_data['Job_Status']=='A172'\n",
    "f3 = model_data['Job_Status']=='A173'\n",
    "\n"
   ]
  },
  {
   "cell_type": "code",
   "execution_count": 315,
   "metadata": {},
   "outputs": [
    {
     "name": "stdout",
     "output_type": "stream",
     "text": [
      "(3500, 17)\n"
     ]
    }
   ],
   "source": [
    "print(model_data.shape)\n"
   ]
  },
  {
   "cell_type": "code",
   "execution_count": 316,
   "metadata": {},
   "outputs": [],
   "source": [
    "model_data['Dummy_A171'] = np.where(f1, 1, 0)\n"
   ]
  },
  {
   "cell_type": "code",
   "execution_count": 317,
   "metadata": {},
   "outputs": [],
   "source": [
    "model_data['Dummy_A172'] = np.where(f2, 1, 0)\n",
    "model_data['Dummy_A173'] = np.where(f3, 1, 0)\n"
   ]
  },
  {
   "cell_type": "code",
   "execution_count": 318,
   "metadata": {},
   "outputs": [
    {
     "name": "stdout",
     "output_type": "stream",
     "text": [
      "(3500, 20)\n",
      "2706    False\n",
      "2436    False\n",
      "1201    False\n",
      "1486    False\n",
      "4286    False\n",
      "2391    False\n",
      "4911    False\n",
      "3262    False\n",
      "1361    False\n",
      "149     False\n",
      "3123    False\n",
      "2395    False\n",
      "4677    False\n",
      "419     False\n",
      "3496    False\n",
      "3698    False\n",
      "2703    False\n",
      "2582    False\n",
      "2835    False\n",
      "4440    False\n",
      "613     False\n",
      "2240    False\n",
      "2606    False\n",
      "4860    False\n",
      "2361    False\n",
      "142     False\n",
      "2571    False\n",
      "3658    False\n",
      "1664    False\n",
      "3573    False\n",
      "        ...  \n",
      "1717    False\n",
      "317     False\n",
      "3373    False\n",
      "4690    False\n",
      "110     False\n",
      "225     False\n",
      "1269    False\n",
      "1325    False\n",
      "1987    False\n",
      "3325    False\n",
      "1397    False\n",
      "637     False\n",
      "2039    False\n",
      "3821    False\n",
      "494     False\n",
      "3720    False\n",
      "75      False\n",
      "4420    False\n",
      "2350    False\n",
      "3600    False\n",
      "1766    False\n",
      "1247    False\n",
      "3075    False\n",
      "920     False\n",
      "3579    False\n",
      "4191    False\n",
      "4554    False\n",
      "743     False\n",
      "94      False\n",
      "731     False\n",
      "Name: Job_Status, Length: 3500, dtype: bool\n",
      "2706    False\n",
      "2436    False\n",
      "1201    False\n",
      "1486    False\n",
      "4286     True\n",
      "2391    False\n",
      "4911     True\n",
      "3262    False\n",
      "1361    False\n",
      "149     False\n",
      "3123    False\n",
      "2395    False\n",
      "4677    False\n",
      "419     False\n",
      "3496    False\n",
      "3698    False\n",
      "2703    False\n",
      "2582     True\n",
      "2835    False\n",
      "4440     True\n",
      "613      True\n",
      "2240    False\n",
      "2606     True\n",
      "4860    False\n",
      "2361    False\n",
      "142     False\n",
      "2571     True\n",
      "3658    False\n",
      "1664     True\n",
      "3573    False\n",
      "        ...  \n",
      "1717     True\n",
      "317     False\n",
      "3373    False\n",
      "4690    False\n",
      "110      True\n",
      "225     False\n",
      "1269    False\n",
      "1325    False\n",
      "1987    False\n",
      "3325    False\n",
      "1397    False\n",
      "637      True\n",
      "2039    False\n",
      "3821    False\n",
      "494     False\n",
      "3720    False\n",
      "75      False\n",
      "4420     True\n",
      "2350    False\n",
      "3600    False\n",
      "1766    False\n",
      "1247    False\n",
      "3075    False\n",
      "920     False\n",
      "3579     True\n",
      "4191     True\n",
      "4554    False\n",
      "743     False\n",
      "94      False\n",
      "731     False\n",
      "Name: Job_Status, Length: 3500, dtype: bool\n",
      "2706     True\n",
      "2436     True\n",
      "1201     True\n",
      "1486     True\n",
      "4286    False\n",
      "2391    False\n",
      "4911    False\n",
      "3262     True\n",
      "1361     True\n",
      "149      True\n",
      "3123     True\n",
      "2395    False\n",
      "4677     True\n",
      "419      True\n",
      "3496    False\n",
      "3698    False\n",
      "2703     True\n",
      "2582    False\n",
      "2835     True\n",
      "4440    False\n",
      "613     False\n",
      "2240     True\n",
      "2606    False\n",
      "4860     True\n",
      "2361     True\n",
      "142      True\n",
      "2571    False\n",
      "3658     True\n",
      "1664    False\n",
      "3573     True\n",
      "        ...  \n",
      "1717    False\n",
      "317     False\n",
      "3373     True\n",
      "4690     True\n",
      "110     False\n",
      "225      True\n",
      "1269     True\n",
      "1325     True\n",
      "1987     True\n",
      "3325     True\n",
      "1397     True\n",
      "637     False\n",
      "2039    False\n",
      "3821     True\n",
      "494      True\n",
      "3720    False\n",
      "75       True\n",
      "4420    False\n",
      "2350     True\n",
      "3600     True\n",
      "1766     True\n",
      "1247     True\n",
      "3075    False\n",
      "920      True\n",
      "3579    False\n",
      "4191    False\n",
      "4554    False\n",
      "743      True\n",
      "94       True\n",
      "731      True\n",
      "Name: Job_Status, Length: 3500, dtype: bool\n"
     ]
    }
   ],
   "source": [
    "print(model_data.shape)\n",
    "print(f1)\n",
    "print(f2)\n",
    "print(f3)\n"
   ]
  },
  {
   "cell_type": "code",
   "execution_count": 319,
   "metadata": {},
   "outputs": [],
   "source": [
    "model_data = model_data.drop(['Job_Status'],axis=1)# converted categorical into numerical and dropped original column keeping dummy vars column\n"
   ]
  },
  {
   "cell_type": "code",
   "execution_count": 1,
   "metadata": {},
   "outputs": [
    {
     "ename": "NameError",
     "evalue": "name 'model_data' is not defined",
     "output_type": "error",
     "traceback": [
      "\u001b[1;31m---------------------------------------------------------------------------\u001b[0m",
      "\u001b[1;31mNameError\u001b[0m                                 Traceback (most recent call last)",
      "\u001b[1;32m<ipython-input-1-54690e13d5f9>\u001b[0m in \u001b[0;36m<module>\u001b[1;34m\u001b[0m\n\u001b[1;32m----> 1\u001b[1;33m \u001b[0mmodel_data\u001b[0m\u001b[1;33m.\u001b[0m\u001b[0mshape\u001b[0m\u001b[1;33m\u001b[0m\u001b[1;33m\u001b[0m\u001b[0m\n\u001b[0m\u001b[0;32m      2\u001b[0m \u001b[0mmodeldata\u001b[0m\u001b[1;33m\u001b[0m\u001b[1;33m\u001b[0m\u001b[0m\n",
      "\u001b[1;31mNameError\u001b[0m: name 'model_data' is not defined"
     ]
    }
   ],
   "source": [
    "model_data.shape\n",
    "\n"
   ]
  },
  {
   "cell_type": "code",
   "execution_count": 321,
   "metadata": {},
   "outputs": [
    {
     "name": "stdout",
     "output_type": "stream",
     "text": [
      "['Purpose_Credit_Taken']\n",
      "          0      1  Percentage 0  Percentage 1\n",
      "P48    40.0    5.0     88.888889     11.111111\n",
      "P41   430.0   85.0     83.495146     16.504854\n",
      "P43  1095.0  305.0     78.214286     21.785714\n",
      "P42   615.0  290.0     67.955801     32.044199\n",
      "P44    40.0   20.0     66.666667     33.333333\n",
      "P49   315.0  170.0     64.948454     35.051546\n",
      "P45    70.0   40.0     63.636364     36.363636\n",
      "P40   725.0  445.0     61.965812     38.034188\n",
      "P50    35.0   25.0     58.333333     41.666667\n",
      "P46   140.0  110.0     56.000000     44.000000\n"
     ]
    }
   ],
   "source": [
    "cols = ['Purpose_Credit_Taken']\n",
    "print(cols)\n",
    "for col in cols:\n",
    "    get_Percent(col,df_base)"
   ]
  },
  {
   "cell_type": "code",
   "execution_count": 322,
   "metadata": {},
   "outputs": [
    {
     "name": "stdout",
     "output_type": "stream",
     "text": [
      "P43    989\n",
      "P40    814\n",
      "P42    633\n",
      "P41    368\n",
      "P49    340\n",
      "P46    167\n",
      "P45     72\n",
      "P50     45\n",
      "P44     43\n",
      "P48     29\n",
      "Name: Purpose_Credit_Taken, dtype: int64 \n",
      "\n"
     ]
    }
   ],
   "source": [
    "print(df['Purpose_Credit_Taken'].value_counts(),'\\n')\n"
   ]
  },
  {
   "cell_type": "code",
   "execution_count": 323,
   "metadata": {},
   "outputs": [
    {
     "name": "stdout",
     "output_type": "stream",
     "text": [
      "  Type Set\n",
      "0    A   Z\n",
      "1    B   Z\n",
      "2    B   X\n",
      "3    C   Y\n"
     ]
    }
   ],
   "source": [
    "#get_Percent('Purpose_Credit_Taken',df_base)\n",
    "\n",
    "df2 = pd.DataFrame({'Type':list('ABBC'), 'Set':list('ZZXY')})\n",
    "print(df2)\n"
   ]
  },
  {
   "cell_type": "code",
   "execution_count": 324,
   "metadata": {},
   "outputs": [
    {
     "name": "stdout",
     "output_type": "stream",
     "text": [
      "  Type Set\n",
      "0    A   Z\n",
      "1    B   Z\n",
      "2    B   X\n",
      "3    C   Y\n",
      "4    D   W\n",
      "5    D   W\n"
     ]
    }
   ],
   "source": [
    "model_data2 = pd.DataFrame({'Type':list('ABBCDD'), 'Set':list('ZZXYWW')})\n",
    "print(model_data2)\n"
   ]
  },
  {
   "cell_type": "code",
   "execution_count": 325,
   "metadata": {},
   "outputs": [],
   "source": [
    "f1 = model_data2['Set']=='Z'\n",
    "f2 = model_data2['Set']=='Y'\n",
    "f3 = model_data2['Set']=='X'\n"
   ]
  },
  {
   "cell_type": "code",
   "execution_count": 326,
   "metadata": {},
   "outputs": [
    {
     "name": "stdout",
     "output_type": "stream",
     "text": [
      "  Type Set  color\n",
      "0    A   Z  green\n",
      "1    B   Z  green\n",
      "2    B   X  green\n",
      "3    C   Y  green\n",
      "4    D   W    red\n",
      "5    D   W    red\n"
     ]
    }
   ],
   "source": [
    "model_data2['color'] = np.where(np.logical_or(f1,np.logical_or(f2,f3)), 'green', 'red')\n",
    "print(model_data2)\n"
   ]
  },
  {
   "cell_type": "code",
   "execution_count": 327,
   "metadata": {},
   "outputs": [
    {
     "name": "stdout",
     "output_type": "stream",
     "text": [
      "  Type Set  color  color2\n",
      "0    A   Z  green    True\n",
      "1    B   Z  green    True\n",
      "2    B   X  green    True\n",
      "3    C   Y  green    True\n",
      "4    D   W    red   False\n",
      "5    D   W    red   False\n"
     ]
    }
   ],
   "source": [
    "model_data2['color2'] = f1 | f2 | f3 #np.where(np.logical_or(f1,np.logical_or(f2,f3)), 'green', 'red')\n",
    "print(model_data2)\n"
   ]
  },
  {
   "cell_type": "code",
   "execution_count": 330,
   "metadata": {},
   "outputs": [
    {
     "ename": "TypeError",
     "evalue": "return arrays must be of ArrayType",
     "output_type": "error",
     "traceback": [
      "\u001b[1;31m---------------------------------------------------------------------------\u001b[0m",
      "\u001b[1;31mTypeError\u001b[0m                                 Traceback (most recent call last)",
      "\u001b[1;32m<ipython-input-330-b06138c94921>\u001b[0m in \u001b[0;36m<module>\u001b[1;34m\u001b[0m\n\u001b[0;32m      1\u001b[0m \u001b[0mmodel_data_bkp\u001b[0m \u001b[1;33m=\u001b[0m \u001b[0mmodel_data\u001b[0m\u001b[1;31m# to save data from corruption\u001b[0m\u001b[1;33m\u001b[0m\u001b[1;33m\u001b[0m\u001b[0m\n\u001b[0;32m      2\u001b[0m \u001b[1;31m#model_data['Dummy_Purpose_Credit_Taken_Low'] =\u001b[0m\u001b[1;33m\u001b[0m\u001b[1;33m\u001b[0m\u001b[1;33m\u001b[0m\u001b[0m\n\u001b[1;32m----> 3\u001b[1;33m \u001b[0mnp\u001b[0m\u001b[1;33m.\u001b[0m\u001b[0mwhere\u001b[0m\u001b[1;33m(\u001b[0m\u001b[0mnp\u001b[0m\u001b[1;33m.\u001b[0m\u001b[0mlogical_or\u001b[0m\u001b[1;33m(\u001b[0m\u001b[0mmodel_data\u001b[0m\u001b[1;33m[\u001b[0m\u001b[1;34m'Purpose_Credit_Taken'\u001b[0m\u001b[1;33m]\u001b[0m\u001b[1;33m==\u001b[0m\u001b[1;34m'P41'\u001b[0m\u001b[1;33m,\u001b[0m\u001b[0mmodel_data\u001b[0m\u001b[1;33m[\u001b[0m\u001b[1;34m'Purpose_Credit_Taken'\u001b[0m\u001b[1;33m]\u001b[0m\u001b[1;33m==\u001b[0m\u001b[1;34m'P43'\u001b[0m\u001b[1;33m,\u001b[0m\u001b[0mmodel_data\u001b[0m\u001b[1;33m[\u001b[0m\u001b[1;34m'Purpose_Credit_Taken'\u001b[0m\u001b[1;33m]\u001b[0m\u001b[1;33m==\u001b[0m\u001b[1;34m'P48'\u001b[0m\u001b[1;33m)\u001b[0m\u001b[1;33m,\u001b[0m \u001b[1;36m1\u001b[0m\u001b[1;33m,\u001b[0m \u001b[1;36m0\u001b[0m\u001b[1;33m)\u001b[0m\u001b[1;33m\u001b[0m\u001b[1;33m\u001b[0m\u001b[0m\n\u001b[0m\u001b[0;32m      4\u001b[0m \u001b[1;33m\u001b[0m\u001b[0m\n\u001b[0;32m      5\u001b[0m \u001b[1;31m#model_data = model_data_bkp\u001b[0m\u001b[1;33m\u001b[0m\u001b[1;33m\u001b[0m\u001b[1;33m\u001b[0m\u001b[0m\n",
      "\u001b[1;31mTypeError\u001b[0m: return arrays must be of ArrayType"
     ]
    }
   ],
   "source": [
    "model_data_bkp = model_data# to save data from corruption\n",
    "#model_data['Dummy_Purpose_Credit_Taken_Low'] =\n",
    "np.where(np.logical_or(model_data['Purpose_Credit_Taken']=='P41',model_data['Purpose_Credit_Taken']=='P43',model_data['Purpose_Credit_Taken']=='P48'), 1, 0)\n",
    "\n",
    "#model_data = model_data_bkp\n",
    "print(model_data.shape)\n",
    "\n",
    "#print(model_data.head())\n",
    "f1 = model_data['Purpose_Credit_Taken']=='P41'\n",
    "f2 = model_data['Purpose_Credit_Taken']=='P43'\n",
    "f3 = model_data['Purpose_Credit_Taken']=='P48'\n",
    "\n",
    "print(model_data.shape)\n",
    "\n",
    "model_data['Dummy_Purpose_Credit_Taken_Low'] = np.where(\n",
    "np.logical_or(f1,\n",
    "np.logical_or(f2,f3)), 1, 0)\n",
    "\n",
    "print(model_data.shape)\n",
    "\n",
    "data_sbst1 = model_data[['Purpose_Credit_Taken','Dummy_Purpose_Credit_Taken_Low']]\n",
    "data_sbst1.head()\n",
    "\n",
    "f1 = model_data['Purpose_Credit_Taken']=='P49'\n",
    "f2 = model_data['Purpose_Credit_Taken']=='P40'\n",
    "f3 = model_data['Purpose_Credit_Taken']=='P45'\n",
    "f4 = model_data['Purpose_Credit_Taken']=='P50'\n",
    "f5 = model_data['Purpose_Credit_Taken']=='P46'\n",
    "#f3 = model_data['Purpose_Credit_Taken']=='P48'\n",
    "print(model_data.shape)\n",
    "model_data['Dummy_Purpose_Credit_Taken_High'] = np.where(np.logical_or(f1,np.logical_or(f2,np.logical_or(f3,np.logical_or(f4,f5)))), 1, 0)\n",
    "\n",
    "print(model_data.shape)\n",
    "\n",
    "model_data.sample(5)\n",
    "\n",
    "model_data.shape\n",
    "\n",
    "model_data = model_data.drop(['Purpose_Credit_Taken'],axis=1)\n",
    "\n",
    "model_data.shape\n",
    "\n"
   ]
  },
  {
   "cell_type": "code",
   "execution_count": null,
   "metadata": {},
   "outputs": [],
   "source": []
  }
 ],
 "metadata": {
  "kernelspec": {
   "display_name": "Python 3",
   "language": "python",
   "name": "python3"
  },
  "language_info": {
   "codemirror_mode": {
    "name": "ipython",
    "version": 3
   },
   "file_extension": ".py",
   "mimetype": "text/x-python",
   "name": "python",
   "nbconvert_exporter": "python",
   "pygments_lexer": "ipython3",
   "version": "3.7.3"
  }
 },
 "nbformat": 4,
 "nbformat_minor": 2
}
