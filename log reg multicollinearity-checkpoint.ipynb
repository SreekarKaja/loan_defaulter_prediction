{
 "cells": [
  {
   "cell_type": "code",
   "execution_count": 59,
   "metadata": {},
   "outputs": [],
   "source": [
    "import numpy as np\n",
    "import pandas as pd\n",
    "import statsmodels.api as sm\n"
   ]
  },
  {
   "cell_type": "code",
   "execution_count": 60,
   "metadata": {},
   "outputs": [
    {
     "data": {
      "text/html": [
       "<div>\n",
       "<style scoped>\n",
       "    .dataframe tbody tr th:only-of-type {\n",
       "        vertical-align: middle;\n",
       "    }\n",
       "\n",
       "    .dataframe tbody tr th {\n",
       "        vertical-align: top;\n",
       "    }\n",
       "\n",
       "    .dataframe thead th {\n",
       "        text-align: right;\n",
       "    }\n",
       "</style>\n",
       "<table border=\"1\" class=\"dataframe\">\n",
       "  <thead>\n",
       "    <tr style=\"text-align: right;\">\n",
       "      <th></th>\n",
       "      <th>Customer_ID</th>\n",
       "      <th>Credit_Amount</th>\n",
       "      <th>Purpose_Credit_Taken</th>\n",
       "      <th>Duration_in_Months</th>\n",
       "      <th>Status_Checking_Accnt</th>\n",
       "      <th>Credit_History</th>\n",
       "      <th>Job_Status</th>\n",
       "      <th>Years_At_Present_Employment</th>\n",
       "      <th>Marital_Status_Gender</th>\n",
       "      <th>Other_Debtors_Guarantors</th>\n",
       "      <th>Current_Address_Yrs</th>\n",
       "      <th>Age</th>\n",
       "      <th>Housing</th>\n",
       "      <th>Num_Credits</th>\n",
       "      <th>Num_Dependents</th>\n",
       "      <th>Foreign_Worker</th>\n",
       "      <th>Default_On_Payment</th>\n",
       "    </tr>\n",
       "  </thead>\n",
       "  <tbody>\n",
       "    <tr>\n",
       "      <th>0</th>\n",
       "      <td>C15001</td>\n",
       "      <td>3939</td>\n",
       "      <td>P40</td>\n",
       "      <td>11</td>\n",
       "      <td>S11</td>\n",
       "      <td>A34</td>\n",
       "      <td>A172</td>\n",
       "      <td>E73</td>\n",
       "      <td>A93</td>\n",
       "      <td>A101</td>\n",
       "      <td>2</td>\n",
       "      <td>40</td>\n",
       "      <td>A152</td>\n",
       "      <td>2</td>\n",
       "      <td>2</td>\n",
       "      <td>A201</td>\n",
       "      <td>0</td>\n",
       "    </tr>\n",
       "    <tr>\n",
       "      <th>1</th>\n",
       "      <td>C15002</td>\n",
       "      <td>1795</td>\n",
       "      <td>P43</td>\n",
       "      <td>18</td>\n",
       "      <td>S12</td>\n",
       "      <td>A34</td>\n",
       "      <td>A172</td>\n",
       "      <td>E75</td>\n",
       "      <td>A92</td>\n",
       "      <td>A103</td>\n",
       "      <td>4</td>\n",
       "      <td>48</td>\n",
       "      <td>A151</td>\n",
       "      <td>2</td>\n",
       "      <td>1</td>\n",
       "      <td>A201</td>\n",
       "      <td>0</td>\n",
       "    </tr>\n",
       "    <tr>\n",
       "      <th>2</th>\n",
       "      <td>C15003</td>\n",
       "      <td>6143</td>\n",
       "      <td>P41</td>\n",
       "      <td>48</td>\n",
       "      <td>S11</td>\n",
       "      <td>A34</td>\n",
       "      <td>A172</td>\n",
       "      <td>E75</td>\n",
       "      <td>A92</td>\n",
       "      <td>A101</td>\n",
       "      <td>4</td>\n",
       "      <td>58</td>\n",
       "      <td>A153</td>\n",
       "      <td>2</td>\n",
       "      <td>1</td>\n",
       "      <td>A201</td>\n",
       "      <td>1</td>\n",
       "    </tr>\n",
       "    <tr>\n",
       "      <th>3</th>\n",
       "      <td>C15004</td>\n",
       "      <td>2675</td>\n",
       "      <td>P43</td>\n",
       "      <td>22</td>\n",
       "      <td>S14</td>\n",
       "      <td>A32</td>\n",
       "      <td>A173</td>\n",
       "      <td>E75</td>\n",
       "      <td>A93</td>\n",
       "      <td>A101</td>\n",
       "      <td>4</td>\n",
       "      <td>40</td>\n",
       "      <td>A152</td>\n",
       "      <td>1</td>\n",
       "      <td>1</td>\n",
       "      <td>A201</td>\n",
       "      <td>0</td>\n",
       "    </tr>\n",
       "    <tr>\n",
       "      <th>4</th>\n",
       "      <td>C15005</td>\n",
       "      <td>12389</td>\n",
       "      <td>P40</td>\n",
       "      <td>36</td>\n",
       "      <td>S12</td>\n",
       "      <td>A32</td>\n",
       "      <td>NaN</td>\n",
       "      <td>E73</td>\n",
       "      <td>A93</td>\n",
       "      <td>A101</td>\n",
       "      <td>4</td>\n",
       "      <td>37</td>\n",
       "      <td>A153</td>\n",
       "      <td>1</td>\n",
       "      <td>1</td>\n",
       "      <td>A201</td>\n",
       "      <td>1</td>\n",
       "    </tr>\n",
       "  </tbody>\n",
       "</table>\n",
       "</div>"
      ],
      "text/plain": [
       "  Customer_ID  Credit_Amount Purpose_Credit_Taken  Duration_in_Months  \\\n",
       "0      C15001           3939                  P40                  11   \n",
       "1      C15002           1795                  P43                  18   \n",
       "2      C15003           6143                  P41                  48   \n",
       "3      C15004           2675                  P43                  22   \n",
       "4      C15005          12389                  P40                  36   \n",
       "\n",
       "  Status_Checking_Accnt Credit_History Job_Status Years_At_Present_Employment  \\\n",
       "0                   S11            A34       A172                         E73   \n",
       "1                   S12            A34       A172                         E75   \n",
       "2                   S11            A34       A172                         E75   \n",
       "3                   S14            A32       A173                         E75   \n",
       "4                   S12            A32        NaN                         E73   \n",
       "\n",
       "  Marital_Status_Gender Other_Debtors_Guarantors  Current_Address_Yrs  Age  \\\n",
       "0                   A93                     A101                    2   40   \n",
       "1                   A92                     A103                    4   48   \n",
       "2                   A92                     A101                    4   58   \n",
       "3                   A93                     A101                    4   40   \n",
       "4                   A93                     A101                    4   37   \n",
       "\n",
       "  Housing  Num_Credits  Num_Dependents Foreign_Worker  Default_On_Payment  \n",
       "0    A152            2               2           A201                   0  \n",
       "1    A151            2               1           A201                   0  \n",
       "2    A153            2               1           A201                   1  \n",
       "3    A152            1               1           A201                   0  \n",
       "4    A153            1               1           A201                   1  "
      ]
     },
     "execution_count": 60,
     "metadata": {},
     "output_type": "execute_result"
    }
   ],
   "source": [
    "\n",
    "df=pd.read_csv('C:\\\\Users\\\\SAI SREEKAR KAJA\\\\Desktop\\\\python\\\\01_DataScience\\\\Datasets\\\\Log-Reg-Case-Study.csv')\n",
    "df.head()\n",
    "\n"
   ]
  },
  {
   "cell_type": "code",
   "execution_count": 61,
   "metadata": {},
   "outputs": [
    {
     "data": {
      "text/html": [
       "<div>\n",
       "<style scoped>\n",
       "    .dataframe tbody tr th:only-of-type {\n",
       "        vertical-align: middle;\n",
       "    }\n",
       "\n",
       "    .dataframe tbody tr th {\n",
       "        vertical-align: top;\n",
       "    }\n",
       "\n",
       "    .dataframe thead th {\n",
       "        text-align: right;\n",
       "    }\n",
       "</style>\n",
       "<table border=\"1\" class=\"dataframe\">\n",
       "  <thead>\n",
       "    <tr style=\"text-align: right;\">\n",
       "      <th></th>\n",
       "      <th>Credit_Amount</th>\n",
       "      <th>Duration_in_Months</th>\n",
       "      <th>Current_Address_Yrs</th>\n",
       "      <th>Age</th>\n",
       "      <th>Num_Credits</th>\n",
       "      <th>Num_Dependents</th>\n",
       "      <th>Default_On_Payment</th>\n",
       "    </tr>\n",
       "  </thead>\n",
       "  <tbody>\n",
       "    <tr>\n",
       "      <th>0</th>\n",
       "      <td>3939</td>\n",
       "      <td>11</td>\n",
       "      <td>2</td>\n",
       "      <td>40</td>\n",
       "      <td>2</td>\n",
       "      <td>2</td>\n",
       "      <td>0</td>\n",
       "    </tr>\n",
       "    <tr>\n",
       "      <th>1</th>\n",
       "      <td>1795</td>\n",
       "      <td>18</td>\n",
       "      <td>4</td>\n",
       "      <td>48</td>\n",
       "      <td>2</td>\n",
       "      <td>1</td>\n",
       "      <td>0</td>\n",
       "    </tr>\n",
       "    <tr>\n",
       "      <th>2</th>\n",
       "      <td>6143</td>\n",
       "      <td>48</td>\n",
       "      <td>4</td>\n",
       "      <td>58</td>\n",
       "      <td>2</td>\n",
       "      <td>1</td>\n",
       "      <td>1</td>\n",
       "    </tr>\n",
       "    <tr>\n",
       "      <th>3</th>\n",
       "      <td>2675</td>\n",
       "      <td>22</td>\n",
       "      <td>4</td>\n",
       "      <td>40</td>\n",
       "      <td>1</td>\n",
       "      <td>1</td>\n",
       "      <td>0</td>\n",
       "    </tr>\n",
       "    <tr>\n",
       "      <th>4</th>\n",
       "      <td>12389</td>\n",
       "      <td>36</td>\n",
       "      <td>4</td>\n",
       "      <td>37</td>\n",
       "      <td>1</td>\n",
       "      <td>1</td>\n",
       "      <td>1</td>\n",
       "    </tr>\n",
       "  </tbody>\n",
       "</table>\n",
       "</div>"
      ],
      "text/plain": [
       "   Credit_Amount  Duration_in_Months  Current_Address_Yrs  Age  Num_Credits  \\\n",
       "0           3939                  11                    2   40            2   \n",
       "1           1795                  18                    4   48            2   \n",
       "2           6143                  48                    4   58            2   \n",
       "3           2675                  22                    4   40            1   \n",
       "4          12389                  36                    4   37            1   \n",
       "\n",
       "   Num_Dependents  Default_On_Payment  \n",
       "0               2                   0  \n",
       "1               1                   0  \n",
       "2               1                   1  \n",
       "3               1                   0  \n",
       "4               1                   1  "
      ]
     },
     "execution_count": 61,
     "metadata": {},
     "output_type": "execute_result"
    }
   ],
   "source": [
    "df2=df._get_numeric_data()# extract all columns with numerical data \n",
    "\n",
    "df2.head()"
   ]
  },
  {
   "cell_type": "code",
   "execution_count": 62,
   "metadata": {},
   "outputs": [
    {
     "data": {
      "text/plain": [
       "array([[3939,   11,    2,   40,    2,    2],\n",
       "       [1795,   18,    4,   48,    2,    1],\n",
       "       [6143,   48,    4,   58,    2,    1],\n",
       "       ...,\n",
       "       [3595,   36,    2,   28,    1,    1],\n",
       "       [2622,   18,    4,   34,    1,    1],\n",
       "       [2142,   11,    2,   28,    1,    1]], dtype=int64)"
      ]
     },
     "execution_count": 62,
     "metadata": {},
     "output_type": "execute_result"
    }
   ],
   "source": [
    "X=df2.loc[:,df2.columns!='Default_On_Payment'].values\n",
    "X"
   ]
  },
  {
   "cell_type": "code",
   "execution_count": 63,
   "metadata": {},
   "outputs": [
    {
     "data": {
      "text/plain": [
       "array([0, 0, 1, ..., 0, 0, 0], dtype=int64)"
      ]
     },
     "execution_count": 63,
     "metadata": {},
     "output_type": "execute_result"
    }
   ],
   "source": [
    "y=df2.iloc[:,6].values\n",
    "y"
   ]
  },
  {
   "cell_type": "code",
   "execution_count": 64,
   "metadata": {},
   "outputs": [
    {
     "name": "stdout",
     "output_type": "stream",
     "text": [
      "Optimization terminated successfully.\n",
      "         Current function value: 0.583665\n",
      "         Iterations 5\n"
     ]
    },
    {
     "data": {
      "text/html": [
       "<table class=\"simpletable\">\n",
       "<caption>Logit Regression Results</caption>\n",
       "<tr>\n",
       "  <th>Dep. Variable:</th>         <td>y</td>        <th>  No. Observations:  </th>  <td>  5000</td>  \n",
       "</tr>\n",
       "<tr>\n",
       "  <th>Model:</th>               <td>Logit</td>      <th>  Df Residuals:      </th>  <td>  4993</td>  \n",
       "</tr>\n",
       "<tr>\n",
       "  <th>Method:</th>               <td>MLE</td>       <th>  Df Model:          </th>  <td>     6</td>  \n",
       "</tr>\n",
       "<tr>\n",
       "  <th>Date:</th>          <td>Mon, 17 Jun 2019</td> <th>  Pseudo R-squ.:     </th>  <td>0.04320</td> \n",
       "</tr>\n",
       "<tr>\n",
       "  <th>Time:</th>              <td>21:16:09</td>     <th>  Log-Likelihood:    </th> <td> -2918.3</td> \n",
       "</tr>\n",
       "<tr>\n",
       "  <th>converged:</th>           <td>True</td>       <th>  LL-Null:           </th> <td> -3050.1</td> \n",
       "</tr>\n",
       "<tr>\n",
       "  <th> </th>                      <td> </td>        <th>  LLR p-value:       </th> <td>5.333e-54</td>\n",
       "</tr>\n",
       "</table>\n",
       "<table class=\"simpletable\">\n",
       "<tr>\n",
       "    <td></td>       <th>coef</th>     <th>std err</th>      <th>z</th>      <th>P>|z|</th>  <th>[0.025</th>    <th>0.975]</th>  \n",
       "</tr>\n",
       "<tr>\n",
       "  <th>const</th> <td>   -1.0457</td> <td>    0.170</td> <td>   -6.164</td> <td> 0.000</td> <td>   -1.378</td> <td>   -0.713</td>\n",
       "</tr>\n",
       "<tr>\n",
       "  <th>x1</th>    <td> 3.166e-05</td> <td> 1.38e-05</td> <td>    2.292</td> <td> 0.022</td> <td> 4.59e-06</td> <td> 5.87e-05</td>\n",
       "</tr>\n",
       "<tr>\n",
       "  <th>x2</th>    <td>    0.0318</td> <td>    0.003</td> <td>    9.685</td> <td> 0.000</td> <td>    0.025</td> <td>    0.038</td>\n",
       "</tr>\n",
       "<tr>\n",
       "  <th>x3</th>    <td>    0.0471</td> <td>    0.030</td> <td>    1.585</td> <td> 0.113</td> <td>   -0.011</td> <td>    0.105</td>\n",
       "</tr>\n",
       "<tr>\n",
       "  <th>x4</th>    <td>   -0.0186</td> <td>    0.003</td> <td>   -5.992</td> <td> 0.000</td> <td>   -0.025</td> <td>   -0.013</td>\n",
       "</tr>\n",
       "<tr>\n",
       "  <th>x5</th>    <td>   -0.1412</td> <td>    0.058</td> <td>   -2.437</td> <td> 0.015</td> <td>   -0.255</td> <td>   -0.028</td>\n",
       "</tr>\n",
       "<tr>\n",
       "  <th>x6</th>    <td>    0.0928</td> <td>    0.089</td> <td>    1.040</td> <td> 0.298</td> <td>   -0.082</td> <td>    0.268</td>\n",
       "</tr>\n",
       "</table>"
      ],
      "text/plain": [
       "<class 'statsmodels.iolib.summary.Summary'>\n",
       "\"\"\"\n",
       "                           Logit Regression Results                           \n",
       "==============================================================================\n",
       "Dep. Variable:                      y   No. Observations:                 5000\n",
       "Model:                          Logit   Df Residuals:                     4993\n",
       "Method:                           MLE   Df Model:                            6\n",
       "Date:                Mon, 17 Jun 2019   Pseudo R-squ.:                 0.04320\n",
       "Time:                        21:16:09   Log-Likelihood:                -2918.3\n",
       "converged:                       True   LL-Null:                       -3050.1\n",
       "                                        LLR p-value:                 5.333e-54\n",
       "==============================================================================\n",
       "                 coef    std err          z      P>|z|      [0.025      0.975]\n",
       "------------------------------------------------------------------------------\n",
       "const         -1.0457      0.170     -6.164      0.000      -1.378      -0.713\n",
       "x1          3.166e-05   1.38e-05      2.292      0.022    4.59e-06    5.87e-05\n",
       "x2             0.0318      0.003      9.685      0.000       0.025       0.038\n",
       "x3             0.0471      0.030      1.585      0.113      -0.011       0.105\n",
       "x4            -0.0186      0.003     -5.992      0.000      -0.025      -0.013\n",
       "x5            -0.1412      0.058     -2.437      0.015      -0.255      -0.028\n",
       "x6             0.0928      0.089      1.040      0.298      -0.082       0.268\n",
       "==============================================================================\n",
       "\"\"\""
      ]
     },
     "execution_count": 64,
     "metadata": {},
     "output_type": "execute_result"
    }
   ],
   "source": [
    "logit = sm.Logit( y, sm.add_constant(X) )\n",
    "lg = logit.fit()\n",
    "lg.summary()"
   ]
  },
  {
   "cell_type": "code",
   "execution_count": 65,
   "metadata": {},
   "outputs": [
    {
     "name": "stdout",
     "output_type": "stream",
     "text": [
      "[[1.000e+00 3.939e+03 1.100e+01 ... 4.000e+01 2.000e+00 2.000e+00]\n",
      " [1.000e+00 1.795e+03 1.800e+01 ... 4.800e+01 2.000e+00 1.000e+00]\n",
      " [1.000e+00 6.143e+03 4.800e+01 ... 5.800e+01 2.000e+00 1.000e+00]\n",
      " ...\n",
      " [1.000e+00 3.595e+03 3.600e+01 ... 2.800e+01 1.000e+00 1.000e+00]\n",
      " [1.000e+00 2.622e+03 1.800e+01 ... 3.400e+01 1.000e+00 1.000e+00]\n",
      " [1.000e+00 2.142e+03 1.100e+01 ... 2.800e+01 1.000e+00 1.000e+00]]\n"
     ]
    }
   ],
   "source": [
    "print(sm.add_constant(X))"
   ]
  },
  {
   "cell_type": "code",
   "execution_count": 71,
   "metadata": {},
   "outputs": [],
   "source": [
    "def  get_significant_vars(lm):\n",
    "    #print(lm.pvalues)\n",
    "    var_p_vals_df=pd.DataFrame(lm.pvalues)\n",
    "    #print(var_p_vals_df)\n",
    "    #print(var_p_vals_df.index)\n",
    "    var_p_vals_df['vars']=var_p_vals_df.index\n",
    "    #print(var_p_vals_df['vars'])\n",
    "    var_p_vals_df.columns=['pvals','vars']\n",
    "    #print(var_p_vals_df.columns)\n",
    "    #print(var_p_vals_df)\n",
    "    return list(var_p_vals_df[var_p_vals_df.pvals<=0.05]['vars'])"
   ]
  },
  {
   "cell_type": "code",
   "execution_count": 72,
   "metadata": {},
   "outputs": [
    {
     "data": {
      "text/plain": [
       "[0, 1, 2, 3, 4]"
      ]
     },
     "execution_count": 72,
     "metadata": {},
     "output_type": "execute_result"
    }
   ],
   "source": [
    "significant_vars = get_significant_vars( lg )\n",
    "significant_vars\n"
   ]
  },
  {
   "cell_type": "code",
   "execution_count": 73,
   "metadata": {},
   "outputs": [
    {
     "name": "stderr",
     "output_type": "stream",
     "text": [
      "C:\\Users\\SAI SREEKAR KAJA\\Anaconda3\\lib\\site-packages\\ipykernel_launcher.py:1: DeprecationWarning: \n",
      ".ix is deprecated. Please use\n",
      ".loc for label based indexing or\n",
      ".iloc for positional indexing\n",
      "\n",
      "See the documentation here:\n",
      "http://pandas.pydata.org/pandas-docs/stable/indexing.html#ix-indexer-is-deprecated\n",
      "  \"\"\"Entry point for launching an IPython kernel.\n"
     ]
    },
    {
     "data": {
      "text/plain": [
       "array([[3939,   11,   40,    2],\n",
       "       [1795,   18,   48,    2],\n",
       "       [6143,   48,   58,    2],\n",
       "       ...,\n",
       "       [3595,   36,   28,    1],\n",
       "       [2622,   18,   34,    1],\n",
       "       [2142,   11,   28,    1]], dtype=int64)"
      ]
     },
     "execution_count": 73,
     "metadata": {},
     "output_type": "execute_result"
    }
   ],
   "source": [
    "X=df2.ix[:,(0, 1, 3, 4)].values\n",
    "X"
   ]
  },
  {
   "cell_type": "code",
   "execution_count": 74,
   "metadata": {},
   "outputs": [
    {
     "name": "stdout",
     "output_type": "stream",
     "text": [
      "Optimization terminated successfully.\n",
      "         Current function value: 0.584029\n",
      "         Iterations 5\n"
     ]
    },
    {
     "data": {
      "text/html": [
       "<table class=\"simpletable\">\n",
       "<caption>Logit Regression Results</caption>\n",
       "<tr>\n",
       "  <th>Dep. Variable:</th>         <td>y</td>        <th>  No. Observations:  </th>  <td>  5000</td>  \n",
       "</tr>\n",
       "<tr>\n",
       "  <th>Model:</th>               <td>Logit</td>      <th>  Df Residuals:      </th>  <td>  4995</td>  \n",
       "</tr>\n",
       "<tr>\n",
       "  <th>Method:</th>               <td>MLE</td>       <th>  Df Model:          </th>  <td>     4</td>  \n",
       "</tr>\n",
       "<tr>\n",
       "  <th>Date:</th>          <td>Mon, 17 Jun 2019</td> <th>  Pseudo R-squ.:     </th>  <td>0.04260</td> \n",
       "</tr>\n",
       "<tr>\n",
       "  <th>Time:</th>              <td>21:16:45</td>     <th>  Log-Likelihood:    </th> <td> -2920.1</td> \n",
       "</tr>\n",
       "<tr>\n",
       "  <th>converged:</th>           <td>True</td>       <th>  LL-Null:           </th> <td> -3050.1</td> \n",
       "</tr>\n",
       "<tr>\n",
       "  <th> </th>                      <td> </td>        <th>  LLR p-value:       </th> <td>4.899e-55</td>\n",
       "</tr>\n",
       "</table>\n",
       "<table class=\"simpletable\">\n",
       "<tr>\n",
       "    <td></td>       <th>coef</th>     <th>std err</th>      <th>z</th>      <th>P>|z|</th>  <th>[0.025</th>    <th>0.975]</th>  \n",
       "</tr>\n",
       "<tr>\n",
       "  <th>const</th> <td>   -0.8747</td> <td>    0.138</td> <td>   -6.340</td> <td> 0.000</td> <td>   -1.145</td> <td>   -0.604</td>\n",
       "</tr>\n",
       "<tr>\n",
       "  <th>x1</th>    <td> 3.158e-05</td> <td> 1.38e-05</td> <td>    2.285</td> <td> 0.022</td> <td> 4.49e-06</td> <td> 5.87e-05</td>\n",
       "</tr>\n",
       "<tr>\n",
       "  <th>x2</th>    <td>    0.0319</td> <td>    0.003</td> <td>    9.728</td> <td> 0.000</td> <td>    0.025</td> <td>    0.038</td>\n",
       "</tr>\n",
       "<tr>\n",
       "  <th>x3</th>    <td>   -0.0171</td> <td>    0.003</td> <td>   -5.707</td> <td> 0.000</td> <td>   -0.023</td> <td>   -0.011</td>\n",
       "</tr>\n",
       "<tr>\n",
       "  <th>x4</th>    <td>   -0.1311</td> <td>    0.058</td> <td>   -2.273</td> <td> 0.023</td> <td>   -0.244</td> <td>   -0.018</td>\n",
       "</tr>\n",
       "</table>"
      ],
      "text/plain": [
       "<class 'statsmodels.iolib.summary.Summary'>\n",
       "\"\"\"\n",
       "                           Logit Regression Results                           \n",
       "==============================================================================\n",
       "Dep. Variable:                      y   No. Observations:                 5000\n",
       "Model:                          Logit   Df Residuals:                     4995\n",
       "Method:                           MLE   Df Model:                            4\n",
       "Date:                Mon, 17 Jun 2019   Pseudo R-squ.:                 0.04260\n",
       "Time:                        21:16:45   Log-Likelihood:                -2920.1\n",
       "converged:                       True   LL-Null:                       -3050.1\n",
       "                                        LLR p-value:                 4.899e-55\n",
       "==============================================================================\n",
       "                 coef    std err          z      P>|z|      [0.025      0.975]\n",
       "------------------------------------------------------------------------------\n",
       "const         -0.8747      0.138     -6.340      0.000      -1.145      -0.604\n",
       "x1          3.158e-05   1.38e-05      2.285      0.022    4.49e-06    5.87e-05\n",
       "x2             0.0319      0.003      9.728      0.000       0.025       0.038\n",
       "x3            -0.0171      0.003     -5.707      0.000      -0.023      -0.011\n",
       "x4            -0.1311      0.058     -2.273      0.023      -0.244      -0.018\n",
       "==============================================================================\n",
       "\"\"\""
      ]
     },
     "execution_count": 74,
     "metadata": {},
     "output_type": "execute_result"
    }
   ],
   "source": [
    "logit = sm.Logit( y, sm.add_constant(X) )\n",
    "lg = logit.fit()\n",
    "lg.summary()\n"
   ]
  },
  {
   "cell_type": "code",
   "execution_count": 75,
   "metadata": {},
   "outputs": [
    {
     "data": {
      "text/plain": [
       "[0, 1, 2, 3, 4]"
      ]
     },
     "execution_count": 75,
     "metadata": {},
     "output_type": "execute_result"
    }
   ],
   "source": [
    "significant_vars = get_significant_vars( lg )\n",
    "significant_vars"
   ]
  },
  {
   "cell_type": "code",
   "execution_count": null,
   "metadata": {},
   "outputs": [],
   "source": []
  },
  {
   "cell_type": "code",
   "execution_count": null,
   "metadata": {},
   "outputs": [],
   "source": []
  }
 ],
 "metadata": {
  "kernelspec": {
   "display_name": "Python 3",
   "language": "python",
   "name": "python3"
  },
  "language_info": {
   "codemirror_mode": {
    "name": "ipython",
    "version": 3
   },
   "file_extension": ".py",
   "mimetype": "text/x-python",
   "name": "python",
   "nbconvert_exporter": "python",
   "pygments_lexer": "ipython3",
   "version": "3.7.3"
  }
 },
 "nbformat": 4,
 "nbformat_minor": 2
}
